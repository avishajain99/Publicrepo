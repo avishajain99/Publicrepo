{
 "cells": [
  {
   "cell_type": "markdown",
   "metadata": {
    "id": "Lp-TZBYORkr4"
   },
   "source": [
    "## Table of Contents\n",
    "\n",
    "1. **[Import Libraries](#import_lib)** \n",
    "2. **[Set Options](#set_options)** \n",
    "3. **[Read Data](#Read_Data)** \n",
    "4. **[Understand  and Prepare the Data](#Understand_Data)**\n",
    "5. **[Understand the variables](#Understanding_variables)**\n",
    "6. **[Check for Missing Values](#missing)**\n",
    "7. **[Study Correlation](#correlation)**\n",
    "8. **[Detect Outliers](#outliers)**\n",
    "9. **[Some more analysis](#more)** \n"
   ]
  },
  {
   "cell_type": "markdown",
   "metadata": {
    "id": "werFbj0BRkr5"
   },
   "source": [
    "<a id='import_lib'></a>\n",
    "## 1. Import Libraries"
   ]
  },
  {
   "cell_type": "code",
   "execution_count": 134,
   "metadata": {
    "id": "8JFz5prbRkr6"
   },
   "outputs": [],
   "source": [
    "# importing libraries\n",
    "\n",
    "import numpy as np\n",
    "import pandas as pd\n",
    "import matplotlib.pyplot as plt\n",
    "import seaborn as sns\n",
    "\n",
    "# to suppress the warnings\n",
    "import warnings\n",
    "warnings.filterwarnings('ignore')"
   ]
  },
  {
   "cell_type": "markdown",
   "metadata": {
    "id": "X-dtp_nPRkr8"
   },
   "source": [
    "<a id='set_options'></a>\n",
    "## 2. Set Options"
   ]
  },
  {
   "cell_type": "code",
   "execution_count": 135,
   "metadata": {},
   "outputs": [],
   "source": [
    "# setting output precision in terms of number of places after the decimal to 6\n",
    "pd.set_option('display.precision' , 6)"
   ]
  },
  {
   "cell_type": "code",
   "execution_count": 136,
   "metadata": {},
   "outputs": [
    {
     "data": {
      "text/plain": [
       "'C:\\\\Users\\\\avish\\\\GL - EDA\\\\Project - Zomato'"
      ]
     },
     "execution_count": 136,
     "metadata": {},
     "output_type": "execute_result"
    }
   ],
   "source": [
    "import os\n",
    "os.getcwd()  # Prints the current working directory"
   ]
  },
  {
   "cell_type": "code",
   "execution_count": 137,
   "metadata": {},
   "outputs": [],
   "source": [
    "# Setting/changing working directory to default path here\n",
    "os.chdir('C:\\\\Users\\\\avish\\\\GL - EDA\\\\Project - Zomato')"
   ]
  },
  {
   "cell_type": "markdown",
   "metadata": {
    "id": "PkaiNsajRkr-"
   },
   "source": [
    "<a id='Read_Data'></a>\n",
    "## 3. Read Data"
   ]
  },
  {
   "cell_type": "code",
   "execution_count": 138,
   "metadata": {
    "id": "QztCe11ZRkr9"
   },
   "outputs": [],
   "source": [
    "df = pd.read_csv('ZomatoRestaurantsIndia.csv')"
   ]
  },
  {
   "cell_type": "code",
   "execution_count": 139,
   "metadata": {
    "colab": {
     "base_uri": "https://localhost:8080/",
     "height": 392
    },
    "executionInfo": {
     "elapsed": 2064,
     "status": "error",
     "timestamp": 1615197562392,
     "user": {
      "displayName": "Vishnu Murali",
      "photoUrl": "https://lh3.googleusercontent.com/a-/AOh14Gi9HFkIyK2pSuiQeQKuJ_g129BxLvMVLl9xboj8=s64",
      "userId": "16837812932775871984"
     },
     "user_tz": -330
    },
    "id": "cdwoIxuzRkr-",
    "outputId": "88297f97-8a32-411c-b9c6-3c7476b6c0ef"
   },
   "outputs": [],
   "source": [
    "df1 = df.copy()"
   ]
  },
  {
   "cell_type": "code",
   "execution_count": 140,
   "metadata": {},
   "outputs": [
    {
     "data": {
      "text/html": [
       "<div>\n",
       "<style scoped>\n",
       "    .dataframe tbody tr th:only-of-type {\n",
       "        vertical-align: middle;\n",
       "    }\n",
       "\n",
       "    .dataframe tbody tr th {\n",
       "        vertical-align: top;\n",
       "    }\n",
       "\n",
       "    .dataframe thead th {\n",
       "        text-align: right;\n",
       "    }\n",
       "</style>\n",
       "<table border=\"1\" class=\"dataframe\">\n",
       "  <thead>\n",
       "    <tr style=\"text-align: right;\">\n",
       "      <th></th>\n",
       "      <th>res_id</th>\n",
       "      <th>name</th>\n",
       "      <th>establishment</th>\n",
       "      <th>url</th>\n",
       "      <th>address</th>\n",
       "      <th>city</th>\n",
       "      <th>city_id</th>\n",
       "      <th>locality</th>\n",
       "      <th>latitude</th>\n",
       "      <th>longitude</th>\n",
       "      <th>...</th>\n",
       "      <th>price_range</th>\n",
       "      <th>currency</th>\n",
       "      <th>highlights</th>\n",
       "      <th>aggregate_rating</th>\n",
       "      <th>rating_text</th>\n",
       "      <th>votes</th>\n",
       "      <th>photo_count</th>\n",
       "      <th>opentable_support</th>\n",
       "      <th>delivery</th>\n",
       "      <th>takeaway</th>\n",
       "    </tr>\n",
       "  </thead>\n",
       "  <tbody>\n",
       "    <tr>\n",
       "      <th>0</th>\n",
       "      <td>3400299</td>\n",
       "      <td>Bikanervala</td>\n",
       "      <td>Quick Bites</td>\n",
       "      <td>https://www.zomato.com/agra/bikanervala-khanda...</td>\n",
       "      <td>Kalyani Point, Near Tulsi Cinema, Bypass Road,...</td>\n",
       "      <td>Agra</td>\n",
       "      <td>34</td>\n",
       "      <td>Khandari</td>\n",
       "      <td>27.211450</td>\n",
       "      <td>78.002381</td>\n",
       "      <td>...</td>\n",
       "      <td>2</td>\n",
       "      <td>Rs.</td>\n",
       "      <td>Lunch, Takeaway Available, Credit Card, Dinner...</td>\n",
       "      <td>4.4</td>\n",
       "      <td>Very Good</td>\n",
       "      <td>814</td>\n",
       "      <td>154</td>\n",
       "      <td>0.0</td>\n",
       "      <td>-1</td>\n",
       "      <td>-1</td>\n",
       "    </tr>\n",
       "    <tr>\n",
       "      <th>1</th>\n",
       "      <td>3400005</td>\n",
       "      <td>Mama Chicken Mama Franky House</td>\n",
       "      <td>Quick Bites</td>\n",
       "      <td>https://www.zomato.com/agra/mama-chicken-mama-...</td>\n",
       "      <td>Main Market, Sadar Bazaar, Agra Cantt, Agra</td>\n",
       "      <td>Agra</td>\n",
       "      <td>34</td>\n",
       "      <td>Agra Cantt</td>\n",
       "      <td>27.160569</td>\n",
       "      <td>78.011583</td>\n",
       "      <td>...</td>\n",
       "      <td>2</td>\n",
       "      <td>Rs.</td>\n",
       "      <td>Delivery, No Alcohol Available, Dinner, Takeaw...</td>\n",
       "      <td>4.4</td>\n",
       "      <td>Very Good</td>\n",
       "      <td>1203</td>\n",
       "      <td>161</td>\n",
       "      <td>0.0</td>\n",
       "      <td>-1</td>\n",
       "      <td>-1</td>\n",
       "    </tr>\n",
       "    <tr>\n",
       "      <th>2</th>\n",
       "      <td>3401013</td>\n",
       "      <td>Bhagat Halwai</td>\n",
       "      <td>Quick Bites</td>\n",
       "      <td>https://www.zomato.com/agra/bhagat-halwai-2-sh...</td>\n",
       "      <td>62/1, Near Easy Day, West Shivaji Nagar, Goalp...</td>\n",
       "      <td>Agra</td>\n",
       "      <td>34</td>\n",
       "      <td>Shahganj</td>\n",
       "      <td>27.182938</td>\n",
       "      <td>77.979684</td>\n",
       "      <td>...</td>\n",
       "      <td>1</td>\n",
       "      <td>Rs.</td>\n",
       "      <td>No Alcohol Available, Dinner, Takeaway Availab...</td>\n",
       "      <td>4.2</td>\n",
       "      <td>Very Good</td>\n",
       "      <td>801</td>\n",
       "      <td>107</td>\n",
       "      <td>0.0</td>\n",
       "      <td>1</td>\n",
       "      <td>-1</td>\n",
       "    </tr>\n",
       "    <tr>\n",
       "      <th>3</th>\n",
       "      <td>3400290</td>\n",
       "      <td>Bhagat Halwai</td>\n",
       "      <td>Quick Bites</td>\n",
       "      <td>https://www.zomato.com/agra/bhagat-halwai-civi...</td>\n",
       "      <td>Near Anjana Cinema, Nehru Nagar, Civil Lines, ...</td>\n",
       "      <td>Agra</td>\n",
       "      <td>34</td>\n",
       "      <td>Civil Lines</td>\n",
       "      <td>27.205668</td>\n",
       "      <td>78.004799</td>\n",
       "      <td>...</td>\n",
       "      <td>1</td>\n",
       "      <td>Rs.</td>\n",
       "      <td>Takeaway Available, Credit Card, Lunch, Delive...</td>\n",
       "      <td>4.3</td>\n",
       "      <td>Very Good</td>\n",
       "      <td>693</td>\n",
       "      <td>157</td>\n",
       "      <td>0.0</td>\n",
       "      <td>1</td>\n",
       "      <td>-1</td>\n",
       "    </tr>\n",
       "    <tr>\n",
       "      <th>4</th>\n",
       "      <td>3401744</td>\n",
       "      <td>The Salt Cafe Kitchen &amp; Bar</td>\n",
       "      <td>Casual Dining</td>\n",
       "      <td>https://www.zomato.com/agra/the-salt-cafe-kitc...</td>\n",
       "      <td>1C,3rd Floor, Fatehabad Road, Tajganj, Agra</td>\n",
       "      <td>Agra</td>\n",
       "      <td>34</td>\n",
       "      <td>Tajganj</td>\n",
       "      <td>27.157709</td>\n",
       "      <td>78.052421</td>\n",
       "      <td>...</td>\n",
       "      <td>3</td>\n",
       "      <td>Rs.</td>\n",
       "      <td>Lunch, Serves Alcohol, Cash, Credit Card, Dinn...</td>\n",
       "      <td>4.9</td>\n",
       "      <td>Excellent</td>\n",
       "      <td>470</td>\n",
       "      <td>291</td>\n",
       "      <td>0.0</td>\n",
       "      <td>1</td>\n",
       "      <td>-1</td>\n",
       "    </tr>\n",
       "    <tr>\n",
       "      <th>...</th>\n",
       "      <td>...</td>\n",
       "      <td>...</td>\n",
       "      <td>...</td>\n",
       "      <td>...</td>\n",
       "      <td>...</td>\n",
       "      <td>...</td>\n",
       "      <td>...</td>\n",
       "      <td>...</td>\n",
       "      <td>...</td>\n",
       "      <td>...</td>\n",
       "      <td>...</td>\n",
       "      <td>...</td>\n",
       "      <td>...</td>\n",
       "      <td>...</td>\n",
       "      <td>...</td>\n",
       "      <td>...</td>\n",
       "      <td>...</td>\n",
       "      <td>...</td>\n",
       "      <td>...</td>\n",
       "      <td>...</td>\n",
       "      <td>...</td>\n",
       "    </tr>\n",
       "    <tr>\n",
       "      <th>211939</th>\n",
       "      <td>3202251</td>\n",
       "      <td>Kali Mirch Cafe And Restaurant</td>\n",
       "      <td>Casual Dining</td>\n",
       "      <td>https://www.zomato.com/vadodara/kali-mirch-caf...</td>\n",
       "      <td>Manu Smriti Complex, Near Navrachna School, GI...</td>\n",
       "      <td>Vadodara</td>\n",
       "      <td>32</td>\n",
       "      <td>Fatehgunj</td>\n",
       "      <td>22.336931</td>\n",
       "      <td>73.192356</td>\n",
       "      <td>...</td>\n",
       "      <td>2</td>\n",
       "      <td>Rs.</td>\n",
       "      <td>Dinner, Cash, Lunch, Delivery, Indoor Seating,...</td>\n",
       "      <td>4.1</td>\n",
       "      <td>Very Good</td>\n",
       "      <td>243</td>\n",
       "      <td>40</td>\n",
       "      <td>0.0</td>\n",
       "      <td>-1</td>\n",
       "      <td>-1</td>\n",
       "    </tr>\n",
       "    <tr>\n",
       "      <th>211940</th>\n",
       "      <td>3200996</td>\n",
       "      <td>Raju Omlet</td>\n",
       "      <td>Quick Bites</td>\n",
       "      <td>https://www.zomato.com/vadodara/raju-omlet-kar...</td>\n",
       "      <td>Mahalaxmi Apartment, Opposite B O B, Karoli Ba...</td>\n",
       "      <td>Vadodara</td>\n",
       "      <td>32</td>\n",
       "      <td>Karelibaug</td>\n",
       "      <td>22.322455</td>\n",
       "      <td>73.197203</td>\n",
       "      <td>...</td>\n",
       "      <td>1</td>\n",
       "      <td>Rs.</td>\n",
       "      <td>Dinner, Cash, Takeaway Available, Debit Card, ...</td>\n",
       "      <td>4.1</td>\n",
       "      <td>Very Good</td>\n",
       "      <td>187</td>\n",
       "      <td>40</td>\n",
       "      <td>0.0</td>\n",
       "      <td>1</td>\n",
       "      <td>-1</td>\n",
       "    </tr>\n",
       "    <tr>\n",
       "      <th>211941</th>\n",
       "      <td>18984164</td>\n",
       "      <td>The Grand Thakar</td>\n",
       "      <td>Casual Dining</td>\n",
       "      <td>https://www.zomato.com/vadodara/the-grand-thak...</td>\n",
       "      <td>3rd Floor, Shreem Shalini Mall, Opposite Conqu...</td>\n",
       "      <td>Vadodara</td>\n",
       "      <td>32</td>\n",
       "      <td>Alkapuri</td>\n",
       "      <td>22.310563</td>\n",
       "      <td>73.171164</td>\n",
       "      <td>...</td>\n",
       "      <td>2</td>\n",
       "      <td>Rs.</td>\n",
       "      <td>Dinner, Cash, Debit Card, Lunch, Takeaway Avai...</td>\n",
       "      <td>4.0</td>\n",
       "      <td>Very Good</td>\n",
       "      <td>111</td>\n",
       "      <td>38</td>\n",
       "      <td>0.0</td>\n",
       "      <td>-1</td>\n",
       "      <td>-1</td>\n",
       "    </tr>\n",
       "    <tr>\n",
       "      <th>211942</th>\n",
       "      <td>3201138</td>\n",
       "      <td>Subway</td>\n",
       "      <td>Quick Bites</td>\n",
       "      <td>https://www.zomato.com/vadodara/subway-1-akota...</td>\n",
       "      <td>G-2, Vedant Platina, Near Cosmos, Akota, Vadodara</td>\n",
       "      <td>Vadodara</td>\n",
       "      <td>32</td>\n",
       "      <td>Akota</td>\n",
       "      <td>22.270027</td>\n",
       "      <td>73.143068</td>\n",
       "      <td>...</td>\n",
       "      <td>2</td>\n",
       "      <td>Rs.</td>\n",
       "      <td>Dinner, Delivery, Credit Card, Lunch, Cash, Ta...</td>\n",
       "      <td>3.7</td>\n",
       "      <td>Good</td>\n",
       "      <td>128</td>\n",
       "      <td>34</td>\n",
       "      <td>0.0</td>\n",
       "      <td>1</td>\n",
       "      <td>-1</td>\n",
       "    </tr>\n",
       "    <tr>\n",
       "      <th>211943</th>\n",
       "      <td>18879846</td>\n",
       "      <td>Freshcos - The Health Cafe</td>\n",
       "      <td>Café</td>\n",
       "      <td>https://www.zomato.com/vadodara/freshcos-the-h...</td>\n",
       "      <td>Shop 7, Ground Floor, Opposite Natubhai Circle...</td>\n",
       "      <td>Vadodara</td>\n",
       "      <td>32</td>\n",
       "      <td>Vadiwadi</td>\n",
       "      <td>22.309935</td>\n",
       "      <td>73.158768</td>\n",
       "      <td>...</td>\n",
       "      <td>2</td>\n",
       "      <td>Rs.</td>\n",
       "      <td>Dinner, Cash, Takeaway Available, Debit Card, ...</td>\n",
       "      <td>4.0</td>\n",
       "      <td>Very Good</td>\n",
       "      <td>93</td>\n",
       "      <td>53</td>\n",
       "      <td>0.0</td>\n",
       "      <td>1</td>\n",
       "      <td>-1</td>\n",
       "    </tr>\n",
       "  </tbody>\n",
       "</table>\n",
       "<p>211944 rows × 26 columns</p>\n",
       "</div>"
      ],
      "text/plain": [
       "          res_id                            name  establishment  \\\n",
       "0        3400299                     Bikanervala    Quick Bites   \n",
       "1        3400005  Mama Chicken Mama Franky House    Quick Bites   \n",
       "2        3401013                   Bhagat Halwai    Quick Bites   \n",
       "3        3400290                   Bhagat Halwai    Quick Bites   \n",
       "4        3401744     The Salt Cafe Kitchen & Bar  Casual Dining   \n",
       "...          ...                             ...            ...   \n",
       "211939   3202251  Kali Mirch Cafe And Restaurant  Casual Dining   \n",
       "211940   3200996                      Raju Omlet    Quick Bites   \n",
       "211941  18984164                The Grand Thakar  Casual Dining   \n",
       "211942   3201138                          Subway    Quick Bites   \n",
       "211943  18879846      Freshcos - The Health Cafe           Café   \n",
       "\n",
       "                                                      url  \\\n",
       "0       https://www.zomato.com/agra/bikanervala-khanda...   \n",
       "1       https://www.zomato.com/agra/mama-chicken-mama-...   \n",
       "2       https://www.zomato.com/agra/bhagat-halwai-2-sh...   \n",
       "3       https://www.zomato.com/agra/bhagat-halwai-civi...   \n",
       "4       https://www.zomato.com/agra/the-salt-cafe-kitc...   \n",
       "...                                                   ...   \n",
       "211939  https://www.zomato.com/vadodara/kali-mirch-caf...   \n",
       "211940  https://www.zomato.com/vadodara/raju-omlet-kar...   \n",
       "211941  https://www.zomato.com/vadodara/the-grand-thak...   \n",
       "211942  https://www.zomato.com/vadodara/subway-1-akota...   \n",
       "211943  https://www.zomato.com/vadodara/freshcos-the-h...   \n",
       "\n",
       "                                                  address      city  city_id  \\\n",
       "0       Kalyani Point, Near Tulsi Cinema, Bypass Road,...      Agra       34   \n",
       "1             Main Market, Sadar Bazaar, Agra Cantt, Agra      Agra       34   \n",
       "2       62/1, Near Easy Day, West Shivaji Nagar, Goalp...      Agra       34   \n",
       "3       Near Anjana Cinema, Nehru Nagar, Civil Lines, ...      Agra       34   \n",
       "4             1C,3rd Floor, Fatehabad Road, Tajganj, Agra      Agra       34   \n",
       "...                                                   ...       ...      ...   \n",
       "211939  Manu Smriti Complex, Near Navrachna School, GI...  Vadodara       32   \n",
       "211940  Mahalaxmi Apartment, Opposite B O B, Karoli Ba...  Vadodara       32   \n",
       "211941  3rd Floor, Shreem Shalini Mall, Opposite Conqu...  Vadodara       32   \n",
       "211942  G-2, Vedant Platina, Near Cosmos, Akota, Vadodara  Vadodara       32   \n",
       "211943  Shop 7, Ground Floor, Opposite Natubhai Circle...  Vadodara       32   \n",
       "\n",
       "           locality   latitude  longitude  ... price_range  currency  \\\n",
       "0          Khandari  27.211450  78.002381  ...           2       Rs.   \n",
       "1        Agra Cantt  27.160569  78.011583  ...           2       Rs.   \n",
       "2          Shahganj  27.182938  77.979684  ...           1       Rs.   \n",
       "3       Civil Lines  27.205668  78.004799  ...           1       Rs.   \n",
       "4           Tajganj  27.157709  78.052421  ...           3       Rs.   \n",
       "...             ...        ...        ...  ...         ...       ...   \n",
       "211939    Fatehgunj  22.336931  73.192356  ...           2       Rs.   \n",
       "211940   Karelibaug  22.322455  73.197203  ...           1       Rs.   \n",
       "211941     Alkapuri  22.310563  73.171164  ...           2       Rs.   \n",
       "211942        Akota  22.270027  73.143068  ...           2       Rs.   \n",
       "211943     Vadiwadi  22.309935  73.158768  ...           2       Rs.   \n",
       "\n",
       "                                               highlights aggregate_rating  \\\n",
       "0       Lunch, Takeaway Available, Credit Card, Dinner...              4.4   \n",
       "1       Delivery, No Alcohol Available, Dinner, Takeaw...              4.4   \n",
       "2       No Alcohol Available, Dinner, Takeaway Availab...              4.2   \n",
       "3       Takeaway Available, Credit Card, Lunch, Delive...              4.3   \n",
       "4       Lunch, Serves Alcohol, Cash, Credit Card, Dinn...              4.9   \n",
       "...                                                   ...              ...   \n",
       "211939  Dinner, Cash, Lunch, Delivery, Indoor Seating,...              4.1   \n",
       "211940  Dinner, Cash, Takeaway Available, Debit Card, ...              4.1   \n",
       "211941  Dinner, Cash, Debit Card, Lunch, Takeaway Avai...              4.0   \n",
       "211942  Dinner, Delivery, Credit Card, Lunch, Cash, Ta...              3.7   \n",
       "211943  Dinner, Cash, Takeaway Available, Debit Card, ...              4.0   \n",
       "\n",
       "       rating_text  votes  photo_count opentable_support delivery  takeaway  \n",
       "0        Very Good    814          154               0.0       -1        -1  \n",
       "1        Very Good   1203          161               0.0       -1        -1  \n",
       "2        Very Good    801          107               0.0        1        -1  \n",
       "3        Very Good    693          157               0.0        1        -1  \n",
       "4        Excellent    470          291               0.0        1        -1  \n",
       "...            ...    ...          ...               ...      ...       ...  \n",
       "211939   Very Good    243           40               0.0       -1        -1  \n",
       "211940   Very Good    187           40               0.0        1        -1  \n",
       "211941   Very Good    111           38               0.0       -1        -1  \n",
       "211942        Good    128           34               0.0        1        -1  \n",
       "211943   Very Good     93           53               0.0        1        -1  \n",
       "\n",
       "[211944 rows x 26 columns]"
      ]
     },
     "metadata": {},
     "output_type": "display_data"
    }
   ],
   "source": [
    "# displaying complete dataframes\n",
    "display(df1)"
   ]
  },
  {
   "cell_type": "markdown",
   "metadata": {
    "id": "LLy9IXERRkr_"
   },
   "source": [
    "<a id='Understand_Data'></a>\n",
    "## 4. Understand  and Prepare the Data"
   ]
  },
  {
   "cell_type": "markdown",
   "metadata": {
    "id": "VyMyDmkgRkr_"
   },
   "source": [
    "A well-prepared data proves beneficial for analysis as it limits errors and inaccuracies that can occur during analysis. The processed data is more accessible to users.<br> <br>\n",
    "                         Data understanding is the process of getting familiar with the data, to identify data type, to discover first insights into the data, or to detect interesting subsets to form hypotheses about hidden information. Whereas, data preparation is the process of cleaning and transforming raw data before analysis. It is an important step before processing and often involves reformatting data, making corrections to data. <br> <br>\n",
    "                        Data preparation is often a lengthy process, but it is essential as a prerequisite to put data in context to get insights and eliminate bias resulting from poor data quality."
   ]
  },
  {
   "cell_type": "markdown",
   "metadata": {
    "id": "NWLcTmd0RksA"
   },
   "source": [
    "**1. Check dimensions of the dataframe in terms of rows and columns**"
   ]
  },
  {
   "cell_type": "code",
   "execution_count": 141,
   "metadata": {
    "id": "xD4zxIcRRksA",
    "outputId": "a557ae42-5eda-417a-be86-eac47e3634a5",
    "scrolled": true
   },
   "outputs": [
    {
     "data": {
      "text/plain": [
       "(211944, 26)"
      ]
     },
     "execution_count": 141,
     "metadata": {},
     "output_type": "execute_result"
    }
   ],
   "source": [
    "df1.shape"
   ]
  },
  {
   "cell_type": "markdown",
   "metadata": {
    "id": "OwLFJt_bRksC"
   },
   "source": [
    "**2. View the head of the data**"
   ]
  },
  {
   "cell_type": "code",
   "execution_count": 142,
   "metadata": {
    "scrolled": false
   },
   "outputs": [
    {
     "data": {
      "text/html": [
       "<div>\n",
       "<style scoped>\n",
       "    .dataframe tbody tr th:only-of-type {\n",
       "        vertical-align: middle;\n",
       "    }\n",
       "\n",
       "    .dataframe tbody tr th {\n",
       "        vertical-align: top;\n",
       "    }\n",
       "\n",
       "    .dataframe thead th {\n",
       "        text-align: right;\n",
       "    }\n",
       "</style>\n",
       "<table border=\"1\" class=\"dataframe\">\n",
       "  <thead>\n",
       "    <tr style=\"text-align: right;\">\n",
       "      <th></th>\n",
       "      <th>res_id</th>\n",
       "      <th>name</th>\n",
       "      <th>establishment</th>\n",
       "      <th>url</th>\n",
       "      <th>address</th>\n",
       "      <th>city</th>\n",
       "      <th>city_id</th>\n",
       "      <th>locality</th>\n",
       "      <th>latitude</th>\n",
       "      <th>longitude</th>\n",
       "      <th>...</th>\n",
       "      <th>price_range</th>\n",
       "      <th>currency</th>\n",
       "      <th>highlights</th>\n",
       "      <th>aggregate_rating</th>\n",
       "      <th>rating_text</th>\n",
       "      <th>votes</th>\n",
       "      <th>photo_count</th>\n",
       "      <th>opentable_support</th>\n",
       "      <th>delivery</th>\n",
       "      <th>takeaway</th>\n",
       "    </tr>\n",
       "  </thead>\n",
       "  <tbody>\n",
       "    <tr>\n",
       "      <th>0</th>\n",
       "      <td>3400299</td>\n",
       "      <td>Bikanervala</td>\n",
       "      <td>Quick Bites</td>\n",
       "      <td>https://www.zomato.com/agra/bikanervala-khanda...</td>\n",
       "      <td>Kalyani Point, Near Tulsi Cinema, Bypass Road,...</td>\n",
       "      <td>Agra</td>\n",
       "      <td>34</td>\n",
       "      <td>Khandari</td>\n",
       "      <td>27.211450</td>\n",
       "      <td>78.002381</td>\n",
       "      <td>...</td>\n",
       "      <td>2</td>\n",
       "      <td>Rs.</td>\n",
       "      <td>Lunch, Takeaway Available, Credit Card, Dinner...</td>\n",
       "      <td>4.4</td>\n",
       "      <td>Very Good</td>\n",
       "      <td>814</td>\n",
       "      <td>154</td>\n",
       "      <td>0.0</td>\n",
       "      <td>-1</td>\n",
       "      <td>-1</td>\n",
       "    </tr>\n",
       "    <tr>\n",
       "      <th>1</th>\n",
       "      <td>3400005</td>\n",
       "      <td>Mama Chicken Mama Franky House</td>\n",
       "      <td>Quick Bites</td>\n",
       "      <td>https://www.zomato.com/agra/mama-chicken-mama-...</td>\n",
       "      <td>Main Market, Sadar Bazaar, Agra Cantt, Agra</td>\n",
       "      <td>Agra</td>\n",
       "      <td>34</td>\n",
       "      <td>Agra Cantt</td>\n",
       "      <td>27.160569</td>\n",
       "      <td>78.011583</td>\n",
       "      <td>...</td>\n",
       "      <td>2</td>\n",
       "      <td>Rs.</td>\n",
       "      <td>Delivery, No Alcohol Available, Dinner, Takeaw...</td>\n",
       "      <td>4.4</td>\n",
       "      <td>Very Good</td>\n",
       "      <td>1203</td>\n",
       "      <td>161</td>\n",
       "      <td>0.0</td>\n",
       "      <td>-1</td>\n",
       "      <td>-1</td>\n",
       "    </tr>\n",
       "    <tr>\n",
       "      <th>2</th>\n",
       "      <td>3401013</td>\n",
       "      <td>Bhagat Halwai</td>\n",
       "      <td>Quick Bites</td>\n",
       "      <td>https://www.zomato.com/agra/bhagat-halwai-2-sh...</td>\n",
       "      <td>62/1, Near Easy Day, West Shivaji Nagar, Goalp...</td>\n",
       "      <td>Agra</td>\n",
       "      <td>34</td>\n",
       "      <td>Shahganj</td>\n",
       "      <td>27.182938</td>\n",
       "      <td>77.979684</td>\n",
       "      <td>...</td>\n",
       "      <td>1</td>\n",
       "      <td>Rs.</td>\n",
       "      <td>No Alcohol Available, Dinner, Takeaway Availab...</td>\n",
       "      <td>4.2</td>\n",
       "      <td>Very Good</td>\n",
       "      <td>801</td>\n",
       "      <td>107</td>\n",
       "      <td>0.0</td>\n",
       "      <td>1</td>\n",
       "      <td>-1</td>\n",
       "    </tr>\n",
       "    <tr>\n",
       "      <th>3</th>\n",
       "      <td>3400290</td>\n",
       "      <td>Bhagat Halwai</td>\n",
       "      <td>Quick Bites</td>\n",
       "      <td>https://www.zomato.com/agra/bhagat-halwai-civi...</td>\n",
       "      <td>Near Anjana Cinema, Nehru Nagar, Civil Lines, ...</td>\n",
       "      <td>Agra</td>\n",
       "      <td>34</td>\n",
       "      <td>Civil Lines</td>\n",
       "      <td>27.205668</td>\n",
       "      <td>78.004799</td>\n",
       "      <td>...</td>\n",
       "      <td>1</td>\n",
       "      <td>Rs.</td>\n",
       "      <td>Takeaway Available, Credit Card, Lunch, Delive...</td>\n",
       "      <td>4.3</td>\n",
       "      <td>Very Good</td>\n",
       "      <td>693</td>\n",
       "      <td>157</td>\n",
       "      <td>0.0</td>\n",
       "      <td>1</td>\n",
       "      <td>-1</td>\n",
       "    </tr>\n",
       "    <tr>\n",
       "      <th>4</th>\n",
       "      <td>3401744</td>\n",
       "      <td>The Salt Cafe Kitchen &amp; Bar</td>\n",
       "      <td>Casual Dining</td>\n",
       "      <td>https://www.zomato.com/agra/the-salt-cafe-kitc...</td>\n",
       "      <td>1C,3rd Floor, Fatehabad Road, Tajganj, Agra</td>\n",
       "      <td>Agra</td>\n",
       "      <td>34</td>\n",
       "      <td>Tajganj</td>\n",
       "      <td>27.157709</td>\n",
       "      <td>78.052421</td>\n",
       "      <td>...</td>\n",
       "      <td>3</td>\n",
       "      <td>Rs.</td>\n",
       "      <td>Lunch, Serves Alcohol, Cash, Credit Card, Dinn...</td>\n",
       "      <td>4.9</td>\n",
       "      <td>Excellent</td>\n",
       "      <td>470</td>\n",
       "      <td>291</td>\n",
       "      <td>0.0</td>\n",
       "      <td>1</td>\n",
       "      <td>-1</td>\n",
       "    </tr>\n",
       "  </tbody>\n",
       "</table>\n",
       "<p>5 rows × 26 columns</p>\n",
       "</div>"
      ],
      "text/plain": [
       "    res_id                            name  establishment  \\\n",
       "0  3400299                     Bikanervala    Quick Bites   \n",
       "1  3400005  Mama Chicken Mama Franky House    Quick Bites   \n",
       "2  3401013                   Bhagat Halwai    Quick Bites   \n",
       "3  3400290                   Bhagat Halwai    Quick Bites   \n",
       "4  3401744     The Salt Cafe Kitchen & Bar  Casual Dining   \n",
       "\n",
       "                                                 url  \\\n",
       "0  https://www.zomato.com/agra/bikanervala-khanda...   \n",
       "1  https://www.zomato.com/agra/mama-chicken-mama-...   \n",
       "2  https://www.zomato.com/agra/bhagat-halwai-2-sh...   \n",
       "3  https://www.zomato.com/agra/bhagat-halwai-civi...   \n",
       "4  https://www.zomato.com/agra/the-salt-cafe-kitc...   \n",
       "\n",
       "                                             address  city  city_id  \\\n",
       "0  Kalyani Point, Near Tulsi Cinema, Bypass Road,...  Agra       34   \n",
       "1        Main Market, Sadar Bazaar, Agra Cantt, Agra  Agra       34   \n",
       "2  62/1, Near Easy Day, West Shivaji Nagar, Goalp...  Agra       34   \n",
       "3  Near Anjana Cinema, Nehru Nagar, Civil Lines, ...  Agra       34   \n",
       "4        1C,3rd Floor, Fatehabad Road, Tajganj, Agra  Agra       34   \n",
       "\n",
       "      locality   latitude  longitude  ... price_range  currency  \\\n",
       "0     Khandari  27.211450  78.002381  ...           2       Rs.   \n",
       "1   Agra Cantt  27.160569  78.011583  ...           2       Rs.   \n",
       "2     Shahganj  27.182938  77.979684  ...           1       Rs.   \n",
       "3  Civil Lines  27.205668  78.004799  ...           1       Rs.   \n",
       "4      Tajganj  27.157709  78.052421  ...           3       Rs.   \n",
       "\n",
       "                                          highlights aggregate_rating  \\\n",
       "0  Lunch, Takeaway Available, Credit Card, Dinner...              4.4   \n",
       "1  Delivery, No Alcohol Available, Dinner, Takeaw...              4.4   \n",
       "2  No Alcohol Available, Dinner, Takeaway Availab...              4.2   \n",
       "3  Takeaway Available, Credit Card, Lunch, Delive...              4.3   \n",
       "4  Lunch, Serves Alcohol, Cash, Credit Card, Dinn...              4.9   \n",
       "\n",
       "  rating_text  votes  photo_count opentable_support delivery  takeaway  \n",
       "0   Very Good    814          154               0.0       -1        -1  \n",
       "1   Very Good   1203          161               0.0       -1        -1  \n",
       "2   Very Good    801          107               0.0        1        -1  \n",
       "3   Very Good    693          157               0.0        1        -1  \n",
       "4   Excellent    470          291               0.0        1        -1  \n",
       "\n",
       "[5 rows x 26 columns]"
      ]
     },
     "execution_count": 142,
     "metadata": {},
     "output_type": "execute_result"
    }
   ],
   "source": [
    "df1.head()"
   ]
  },
  {
   "cell_type": "markdown",
   "metadata": {
    "id": "GxRyhOiCRksl"
   },
   "source": [
    "<a id ='missing'></a>\n",
    "## 5. Check for missing values"
   ]
  },
  {
   "cell_type": "code",
   "execution_count": 143,
   "metadata": {},
   "outputs": [
    {
     "data": {
      "text/plain": [
       "res_id                       0\n",
       "name                         0\n",
       "establishment             4827\n",
       "url                          0\n",
       "address                    134\n",
       "city                         0\n",
       "city_id                      0\n",
       "locality                     0\n",
       "latitude                     0\n",
       "longitude                    0\n",
       "zipcode                 163187\n",
       "country_id                   0\n",
       "locality_verbose             0\n",
       "cuisines                  1391\n",
       "timings                   3874\n",
       "average_cost_for_two         0\n",
       "price_range                  0\n",
       "currency                     0\n",
       "highlights                2069\n",
       "aggregate_rating             0\n",
       "rating_text                  0\n",
       "votes                        0\n",
       "photo_count                  0\n",
       "opentable_support           48\n",
       "delivery                     0\n",
       "takeaway                     0\n",
       "dtype: int64"
      ]
     },
     "execution_count": 143,
     "metadata": {},
     "output_type": "execute_result"
    }
   ],
   "source": [
    "df1.isnull().sum()"
   ]
  },
  {
   "cell_type": "markdown",
   "metadata": {},
   "source": [
    "We have 7 variables with some missing values. Since zipcode has ~80% missing data, its better to not consider it at all. The other 6 features can be dealt with some kind of imputation, but before going through the trouble, its better to look and decide whether they would be beneficial for our analysis or we can simply omit them."
   ]
  },
  {
   "cell_type": "markdown",
   "metadata": {
    "id": "gIKMiqtNRksC"
   },
   "source": [
    "**3. Note the redundant variables and drop them**"
   ]
  },
  {
   "cell_type": "markdown",
   "metadata": {},
   "source": [
    "**Omitting not useful features**\n",
    "\n",
    "1. url - URL is the link to restaurant's page which is not useful for us\n",
    "\n",
    "2. address - Not useful since it has long strings and its difficult to classify\n",
    "\n",
    "3. city_id - We can uniquely use city name or id. So one feature is enough\n",
    "\n",
    "4. locality - Although it can be an interesting feature, but since this feature has so many unique classes, we will avoid it.\n",
    "\n",
    "5. latitude - Can be helpful while using geographic maps, but we won't be doing that here\n",
    "\n",
    "6. longitude - Same as above\n",
    "\n",
    "7. zipcode - Approx 80% missing values\n",
    "\n",
    "8. country_id - Since this dataset is for Indian restaurants, there is just one unique id here.\n",
    "\n",
    "9. locality_verbose - Same reason as locality\n",
    "\n",
    "10. timings - It has missing data, however it has 7740 unique classes. Also, it is not structured even if we try to reduce the number classes like we did in cuisines. Its better to omit it altogether.\n",
    "\n",
    "11. currency - It has only one class, so not useful for us.\n",
    "\n",
    "12. rating_text - Characterisation of numeric rating into bins by using labels. We will be using direct ratings in our analysis, so we can ignore this.\n",
    "\n",
    "13. opentable_support - Not useful since no restaurant has True value for this\n",
    "\n",
    "14. delivery - This feature has 3 classes but there is no explanation for those classes. We can consider -1 and 0 to be one class or ignore this feature for now\n",
    "\n",
    "15. takeaway - Again not useful since it only has one class"
   ]
  },
  {
   "cell_type": "code",
   "execution_count": 144,
   "metadata": {},
   "outputs": [
    {
     "data": {
      "text/plain": [
       "country_id\n",
       "1    211944\n",
       "Name: count, dtype: int64"
      ]
     },
     "execution_count": 144,
     "metadata": {},
     "output_type": "execute_result"
    }
   ],
   "source": [
    "df1['country_id'].value_counts() # ------- dataset is of Indian restaurants only, so this column has only one value"
   ]
  },
  {
   "cell_type": "code",
   "execution_count": 145,
   "metadata": {
    "id": "kaT5UDtHRksC",
    "outputId": "9ac8970e-527c-4a8b-92ed-f838ddb4fcd3",
    "scrolled": true
   },
   "outputs": [
    {
     "data": {
      "text/plain": [
       "163187"
      ]
     },
     "execution_count": 145,
     "metadata": {},
     "output_type": "execute_result"
    }
   ],
   "source": [
    "df1['zipcode'].isnull().sum() # --- can be dropped as it has mostly null values, also we already have city_id col with city's code"
   ]
  },
  {
   "cell_type": "code",
   "execution_count": 146,
   "metadata": {},
   "outputs": [
    {
     "data": {
      "text/plain": [
       "7740"
      ]
     },
     "execution_count": 146,
     "metadata": {},
     "output_type": "execute_result"
    }
   ],
   "source": [
    "df1['timings'].nunique()"
   ]
  },
  {
   "cell_type": "markdown",
   "metadata": {
    "id": "A0qfshkvRksE"
   },
   "source": [
    "**4. Check the data types. Refer to data definition to ensure your data types are correct. If data types are not as per business context, change the data types as per requirement**\n"
   ]
  },
  {
   "cell_type": "code",
   "execution_count": 147,
   "metadata": {
    "id": "tPbXp4StRksE",
    "outputId": "47efa6f4-41e2-4204-ce03-799bf3960155"
   },
   "outputs": [
    {
     "data": {
      "text/plain": [
       "res_id                    int64\n",
       "name                     object\n",
       "establishment            object\n",
       "url                      object\n",
       "address                  object\n",
       "city                     object\n",
       "city_id                   int64\n",
       "locality                 object\n",
       "latitude                float64\n",
       "longitude               float64\n",
       "zipcode                  object\n",
       "country_id                int64\n",
       "locality_verbose         object\n",
       "cuisines                 object\n",
       "timings                  object\n",
       "average_cost_for_two      int64\n",
       "price_range               int64\n",
       "currency                 object\n",
       "highlights               object\n",
       "aggregate_rating        float64\n",
       "rating_text              object\n",
       "votes                     int64\n",
       "photo_count               int64\n",
       "opentable_support       float64\n",
       "delivery                  int64\n",
       "takeaway                  int64\n",
       "dtype: object"
      ]
     },
     "execution_count": 147,
     "metadata": {},
     "output_type": "execute_result"
    }
   ],
   "source": [
    "df1.dtypes"
   ]
  },
  {
   "cell_type": "markdown",
   "metadata": {
    "id": "G4xIIbrBRksG"
   },
   "source": [
    "**5. Check for Duplicates**"
   ]
  },
  {
   "cell_type": "code",
   "execution_count": 148,
   "metadata": {},
   "outputs": [
    {
     "data": {
      "text/plain": [
       "151527"
      ]
     },
     "execution_count": 148,
     "metadata": {},
     "output_type": "execute_result"
    }
   ],
   "source": [
    "df1.duplicated().sum()"
   ]
  },
  {
   "cell_type": "code",
   "execution_count": 149,
   "metadata": {},
   "outputs": [
    {
     "data": {
      "text/plain": [
       "55568"
      ]
     },
     "execution_count": 149,
     "metadata": {},
     "output_type": "execute_result"
    }
   ],
   "source": [
    "# unique restaurant ids \n",
    "df1['res_id'].nunique()"
   ]
  },
  {
   "cell_type": "code",
   "execution_count": 150,
   "metadata": {
    "id": "OffFSCfwRksG",
    "outputId": "a4970c87-ec1b-48c0-deac-f612d49fc662"
   },
   "outputs": [
    {
     "data": {
      "text/plain": [
       "156376"
      ]
     },
     "execution_count": 150,
     "metadata": {},
     "output_type": "execute_result"
    }
   ],
   "source": [
    "df1.duplicated('res_id').sum()"
   ]
  },
  {
   "cell_type": "code",
   "execution_count": 151,
   "metadata": {},
   "outputs": [
    {
     "data": {
      "text/plain": [
       "(55568, 26)"
      ]
     },
     "execution_count": 151,
     "metadata": {},
     "output_type": "execute_result"
    }
   ],
   "source": [
    "# Since restaurant_id is the unique identifier for this dataset, we can use it to remove duplicates\n",
    "\n",
    "df1.drop_duplicates('res_id',keep = 'first',inplace = True)\n",
    "df1.shape"
   ]
  },
  {
   "cell_type": "code",
   "execution_count": 152,
   "metadata": {},
   "outputs": [],
   "source": [
    "df1.reset_index(drop = True, inplace = True)"
   ]
  },
  {
   "cell_type": "code",
   "execution_count": 153,
   "metadata": {},
   "outputs": [
    {
     "data": {
      "text/html": [
       "<div>\n",
       "<style scoped>\n",
       "    .dataframe tbody tr th:only-of-type {\n",
       "        vertical-align: middle;\n",
       "    }\n",
       "\n",
       "    .dataframe tbody tr th {\n",
       "        vertical-align: top;\n",
       "    }\n",
       "\n",
       "    .dataframe thead th {\n",
       "        text-align: right;\n",
       "    }\n",
       "</style>\n",
       "<table border=\"1\" class=\"dataframe\">\n",
       "  <thead>\n",
       "    <tr style=\"text-align: right;\">\n",
       "      <th></th>\n",
       "      <th>res_id</th>\n",
       "      <th>name</th>\n",
       "      <th>establishment</th>\n",
       "      <th>url</th>\n",
       "      <th>address</th>\n",
       "      <th>city</th>\n",
       "      <th>city_id</th>\n",
       "      <th>locality</th>\n",
       "      <th>latitude</th>\n",
       "      <th>longitude</th>\n",
       "      <th>...</th>\n",
       "      <th>price_range</th>\n",
       "      <th>currency</th>\n",
       "      <th>highlights</th>\n",
       "      <th>aggregate_rating</th>\n",
       "      <th>rating_text</th>\n",
       "      <th>votes</th>\n",
       "      <th>photo_count</th>\n",
       "      <th>opentable_support</th>\n",
       "      <th>delivery</th>\n",
       "      <th>takeaway</th>\n",
       "    </tr>\n",
       "  </thead>\n",
       "  <tbody>\n",
       "    <tr>\n",
       "      <th>55563</th>\n",
       "      <td>19142822</td>\n",
       "      <td>Shree Janta Ice Cream</td>\n",
       "      <td>Dessert Parlour</td>\n",
       "      <td>https://www.zomato.com/vadodara/shree-janta-ic...</td>\n",
       "      <td>Ground Floor, 5 Ronak Plaza, Tulsidham Char Ra...</td>\n",
       "      <td>Vadodara</td>\n",
       "      <td>32</td>\n",
       "      <td>Manjalpur</td>\n",
       "      <td>22.270516</td>\n",
       "      <td>73.196408</td>\n",
       "      <td>...</td>\n",
       "      <td>1</td>\n",
       "      <td>Rs.</td>\n",
       "      <td>Cash, Takeaway Available, Delivery, Indoor Sea...</td>\n",
       "      <td>2.9</td>\n",
       "      <td>Average</td>\n",
       "      <td>4</td>\n",
       "      <td>1</td>\n",
       "      <td>0.0</td>\n",
       "      <td>1</td>\n",
       "      <td>-1</td>\n",
       "    </tr>\n",
       "    <tr>\n",
       "      <th>55564</th>\n",
       "      <td>18984164</td>\n",
       "      <td>The Grand Thakar</td>\n",
       "      <td>Casual Dining</td>\n",
       "      <td>https://www.zomato.com/vadodara/the-grand-thak...</td>\n",
       "      <td>3rd Floor, Shreem Shalini Mall, Opposite Conqu...</td>\n",
       "      <td>Vadodara</td>\n",
       "      <td>32</td>\n",
       "      <td>Alkapuri</td>\n",
       "      <td>22.310563</td>\n",
       "      <td>73.171164</td>\n",
       "      <td>...</td>\n",
       "      <td>2</td>\n",
       "      <td>Rs.</td>\n",
       "      <td>Dinner, Cash, Debit Card, Lunch, Takeaway Avai...</td>\n",
       "      <td>4.0</td>\n",
       "      <td>Very Good</td>\n",
       "      <td>111</td>\n",
       "      <td>38</td>\n",
       "      <td>0.0</td>\n",
       "      <td>-1</td>\n",
       "      <td>-1</td>\n",
       "    </tr>\n",
       "    <tr>\n",
       "      <th>55565</th>\n",
       "      <td>18019952</td>\n",
       "      <td>Geeta lodge</td>\n",
       "      <td>Casual Dining</td>\n",
       "      <td>https://www.zomato.com/vadodara/geeta-lodge-al...</td>\n",
       "      <td>Shop 11, Ground Floor, Atlantis K-10, Tower A,...</td>\n",
       "      <td>Vadodara</td>\n",
       "      <td>32</td>\n",
       "      <td>Alkapuri</td>\n",
       "      <td>22.317731</td>\n",
       "      <td>73.168107</td>\n",
       "      <td>...</td>\n",
       "      <td>1</td>\n",
       "      <td>Rs.</td>\n",
       "      <td>Dinner, Cash, Credit Card, Lunch, Takeaway Ava...</td>\n",
       "      <td>3.9</td>\n",
       "      <td>Good</td>\n",
       "      <td>207</td>\n",
       "      <td>14</td>\n",
       "      <td>0.0</td>\n",
       "      <td>-1</td>\n",
       "      <td>-1</td>\n",
       "    </tr>\n",
       "    <tr>\n",
       "      <th>55566</th>\n",
       "      <td>3200996</td>\n",
       "      <td>Raju Omlet</td>\n",
       "      <td>Quick Bites</td>\n",
       "      <td>https://www.zomato.com/vadodara/raju-omlet-kar...</td>\n",
       "      <td>Mahalaxmi Apartment, Opposite B O B, Karoli Ba...</td>\n",
       "      <td>Vadodara</td>\n",
       "      <td>32</td>\n",
       "      <td>Karelibaug</td>\n",
       "      <td>22.322455</td>\n",
       "      <td>73.197203</td>\n",
       "      <td>...</td>\n",
       "      <td>1</td>\n",
       "      <td>Rs.</td>\n",
       "      <td>Dinner, Cash, Takeaway Available, Debit Card, ...</td>\n",
       "      <td>4.1</td>\n",
       "      <td>Very Good</td>\n",
       "      <td>187</td>\n",
       "      <td>40</td>\n",
       "      <td>0.0</td>\n",
       "      <td>1</td>\n",
       "      <td>-1</td>\n",
       "    </tr>\n",
       "    <tr>\n",
       "      <th>55567</th>\n",
       "      <td>3201138</td>\n",
       "      <td>Subway</td>\n",
       "      <td>Quick Bites</td>\n",
       "      <td>https://www.zomato.com/vadodara/subway-1-akota...</td>\n",
       "      <td>G-2, Vedant Platina, Near Cosmos, Akota, Vadodara</td>\n",
       "      <td>Vadodara</td>\n",
       "      <td>32</td>\n",
       "      <td>Akota</td>\n",
       "      <td>22.270027</td>\n",
       "      <td>73.143068</td>\n",
       "      <td>...</td>\n",
       "      <td>2</td>\n",
       "      <td>Rs.</td>\n",
       "      <td>Dinner, Delivery, Credit Card, Lunch, Cash, Ta...</td>\n",
       "      <td>3.7</td>\n",
       "      <td>Good</td>\n",
       "      <td>128</td>\n",
       "      <td>34</td>\n",
       "      <td>0.0</td>\n",
       "      <td>1</td>\n",
       "      <td>-1</td>\n",
       "    </tr>\n",
       "  </tbody>\n",
       "</table>\n",
       "<p>5 rows × 26 columns</p>\n",
       "</div>"
      ],
      "text/plain": [
       "         res_id                   name    establishment  \\\n",
       "55563  19142822  Shree Janta Ice Cream  Dessert Parlour   \n",
       "55564  18984164       The Grand Thakar    Casual Dining   \n",
       "55565  18019952            Geeta lodge    Casual Dining   \n",
       "55566   3200996             Raju Omlet      Quick Bites   \n",
       "55567   3201138                 Subway      Quick Bites   \n",
       "\n",
       "                                                     url  \\\n",
       "55563  https://www.zomato.com/vadodara/shree-janta-ic...   \n",
       "55564  https://www.zomato.com/vadodara/the-grand-thak...   \n",
       "55565  https://www.zomato.com/vadodara/geeta-lodge-al...   \n",
       "55566  https://www.zomato.com/vadodara/raju-omlet-kar...   \n",
       "55567  https://www.zomato.com/vadodara/subway-1-akota...   \n",
       "\n",
       "                                                 address      city  city_id  \\\n",
       "55563  Ground Floor, 5 Ronak Plaza, Tulsidham Char Ra...  Vadodara       32   \n",
       "55564  3rd Floor, Shreem Shalini Mall, Opposite Conqu...  Vadodara       32   \n",
       "55565  Shop 11, Ground Floor, Atlantis K-10, Tower A,...  Vadodara       32   \n",
       "55566  Mahalaxmi Apartment, Opposite B O B, Karoli Ba...  Vadodara       32   \n",
       "55567  G-2, Vedant Platina, Near Cosmos, Akota, Vadodara  Vadodara       32   \n",
       "\n",
       "         locality   latitude  longitude  ... price_range  currency  \\\n",
       "55563   Manjalpur  22.270516  73.196408  ...           1       Rs.   \n",
       "55564    Alkapuri  22.310563  73.171164  ...           2       Rs.   \n",
       "55565    Alkapuri  22.317731  73.168107  ...           1       Rs.   \n",
       "55566  Karelibaug  22.322455  73.197203  ...           1       Rs.   \n",
       "55567       Akota  22.270027  73.143068  ...           2       Rs.   \n",
       "\n",
       "                                              highlights aggregate_rating  \\\n",
       "55563  Cash, Takeaway Available, Delivery, Indoor Sea...              2.9   \n",
       "55564  Dinner, Cash, Debit Card, Lunch, Takeaway Avai...              4.0   \n",
       "55565  Dinner, Cash, Credit Card, Lunch, Takeaway Ava...              3.9   \n",
       "55566  Dinner, Cash, Takeaway Available, Debit Card, ...              4.1   \n",
       "55567  Dinner, Delivery, Credit Card, Lunch, Cash, Ta...              3.7   \n",
       "\n",
       "      rating_text  votes  photo_count opentable_support delivery  takeaway  \n",
       "55563     Average      4            1               0.0        1        -1  \n",
       "55564   Very Good    111           38               0.0       -1        -1  \n",
       "55565        Good    207           14               0.0       -1        -1  \n",
       "55566   Very Good    187           40               0.0        1        -1  \n",
       "55567        Good    128           34               0.0        1        -1  \n",
       "\n",
       "[5 rows x 26 columns]"
      ]
     },
     "execution_count": 153,
     "metadata": {},
     "output_type": "execute_result"
    }
   ],
   "source": [
    "df1.tail()"
   ]
  },
  {
   "cell_type": "markdown",
   "metadata": {},
   "source": [
    "Looks like almost 75% of our data had duplicate rows. Its good that we got that out before getting started. Even though we are left with 1/4th of our original dataset, about 55000+ restaurants is still good enough to perform analysis."
   ]
  },
  {
   "cell_type": "markdown",
   "metadata": {},
   "source": [
    "**6. Summary statistics**"
   ]
  },
  {
   "cell_type": "code",
   "execution_count": 154,
   "metadata": {},
   "outputs": [
    {
     "data": {
      "text/html": [
       "<div>\n",
       "<style scoped>\n",
       "    .dataframe tbody tr th:only-of-type {\n",
       "        vertical-align: middle;\n",
       "    }\n",
       "\n",
       "    .dataframe tbody tr th {\n",
       "        vertical-align: top;\n",
       "    }\n",
       "\n",
       "    .dataframe thead th {\n",
       "        text-align: right;\n",
       "    }\n",
       "</style>\n",
       "<table border=\"1\" class=\"dataframe\">\n",
       "  <thead>\n",
       "    <tr style=\"text-align: right;\">\n",
       "      <th></th>\n",
       "      <th>count</th>\n",
       "      <th>mean</th>\n",
       "      <th>std</th>\n",
       "      <th>min</th>\n",
       "      <th>25%</th>\n",
       "      <th>50%</th>\n",
       "      <th>75%</th>\n",
       "      <th>max</th>\n",
       "    </tr>\n",
       "  </thead>\n",
       "  <tbody>\n",
       "    <tr>\n",
       "      <th>res_id</th>\n",
       "      <td>55568.0</td>\n",
       "      <td>1.313694e+07</td>\n",
       "      <td>8.105959e+06</td>\n",
       "      <td>50.0</td>\n",
       "      <td>3.001352e+06</td>\n",
       "      <td>1.869268e+07</td>\n",
       "      <td>1.887262e+07</td>\n",
       "      <td>1.915979e+07</td>\n",
       "    </tr>\n",
       "    <tr>\n",
       "      <th>city_id</th>\n",
       "      <td>55568.0</td>\n",
       "      <td>3.409499e+03</td>\n",
       "      <td>5.174943e+03</td>\n",
       "      <td>1.0</td>\n",
       "      <td>8.000000e+00</td>\n",
       "      <td>2.600000e+01</td>\n",
       "      <td>1.129400e+04</td>\n",
       "      <td>1.135400e+04</td>\n",
       "    </tr>\n",
       "    <tr>\n",
       "      <th>latitude</th>\n",
       "      <td>55568.0</td>\n",
       "      <td>2.145085e+01</td>\n",
       "      <td>4.290109e+01</td>\n",
       "      <td>0.0</td>\n",
       "      <td>1.651851e+01</td>\n",
       "      <td>2.246850e+01</td>\n",
       "      <td>2.675291e+01</td>\n",
       "      <td>1.000000e+04</td>\n",
       "    </tr>\n",
       "    <tr>\n",
       "      <th>longitude</th>\n",
       "      <td>55568.0</td>\n",
       "      <td>7.649713e+01</td>\n",
       "      <td>1.098298e+01</td>\n",
       "      <td>0.0</td>\n",
       "      <td>7.464589e+01</td>\n",
       "      <td>7.710635e+01</td>\n",
       "      <td>7.983164e+01</td>\n",
       "      <td>9.183277e+01</td>\n",
       "    </tr>\n",
       "    <tr>\n",
       "      <th>country_id</th>\n",
       "      <td>55568.0</td>\n",
       "      <td>1.000000e+00</td>\n",
       "      <td>0.000000e+00</td>\n",
       "      <td>1.0</td>\n",
       "      <td>1.000000e+00</td>\n",
       "      <td>1.000000e+00</td>\n",
       "      <td>1.000000e+00</td>\n",
       "      <td>1.000000e+00</td>\n",
       "    </tr>\n",
       "    <tr>\n",
       "      <th>average_cost_for_two</th>\n",
       "      <td>55568.0</td>\n",
       "      <td>5.282059e+02</td>\n",
       "      <td>5.950284e+02</td>\n",
       "      <td>0.0</td>\n",
       "      <td>2.000000e+02</td>\n",
       "      <td>3.500000e+02</td>\n",
       "      <td>6.000000e+02</td>\n",
       "      <td>3.000000e+04</td>\n",
       "    </tr>\n",
       "    <tr>\n",
       "      <th>price_range</th>\n",
       "      <td>55568.0</td>\n",
       "      <td>1.714728e+00</td>\n",
       "      <td>8.782270e-01</td>\n",
       "      <td>1.0</td>\n",
       "      <td>1.000000e+00</td>\n",
       "      <td>1.000000e+00</td>\n",
       "      <td>2.000000e+00</td>\n",
       "      <td>4.000000e+00</td>\n",
       "    </tr>\n",
       "    <tr>\n",
       "      <th>aggregate_rating</th>\n",
       "      <td>55568.0</td>\n",
       "      <td>2.958593e+00</td>\n",
       "      <td>1.464576e+00</td>\n",
       "      <td>0.0</td>\n",
       "      <td>2.900000e+00</td>\n",
       "      <td>3.500000e+00</td>\n",
       "      <td>3.900000e+00</td>\n",
       "      <td>4.900000e+00</td>\n",
       "    </tr>\n",
       "    <tr>\n",
       "      <th>votes</th>\n",
       "      <td>55568.0</td>\n",
       "      <td>2.233327e+02</td>\n",
       "      <td>6.182233e+02</td>\n",
       "      <td>0.0</td>\n",
       "      <td>6.000000e+00</td>\n",
       "      <td>3.500000e+01</td>\n",
       "      <td>1.750000e+02</td>\n",
       "      <td>4.253900e+04</td>\n",
       "    </tr>\n",
       "    <tr>\n",
       "      <th>photo_count</th>\n",
       "      <td>55568.0</td>\n",
       "      <td>1.609748e+02</td>\n",
       "      <td>5.869754e+02</td>\n",
       "      <td>0.0</td>\n",
       "      <td>1.000000e+00</td>\n",
       "      <td>1.000000e+01</td>\n",
       "      <td>6.900000e+01</td>\n",
       "      <td>1.770200e+04</td>\n",
       "    </tr>\n",
       "    <tr>\n",
       "      <th>opentable_support</th>\n",
       "      <td>55556.0</td>\n",
       "      <td>0.000000e+00</td>\n",
       "      <td>0.000000e+00</td>\n",
       "      <td>0.0</td>\n",
       "      <td>0.000000e+00</td>\n",
       "      <td>0.000000e+00</td>\n",
       "      <td>0.000000e+00</td>\n",
       "      <td>0.000000e+00</td>\n",
       "    </tr>\n",
       "    <tr>\n",
       "      <th>delivery</th>\n",
       "      <td>55568.0</td>\n",
       "      <td>-3.498236e-01</td>\n",
       "      <td>9.337935e-01</td>\n",
       "      <td>-1.0</td>\n",
       "      <td>-1.000000e+00</td>\n",
       "      <td>-1.000000e+00</td>\n",
       "      <td>1.000000e+00</td>\n",
       "      <td>1.000000e+00</td>\n",
       "    </tr>\n",
       "    <tr>\n",
       "      <th>takeaway</th>\n",
       "      <td>55568.0</td>\n",
       "      <td>-1.000000e+00</td>\n",
       "      <td>0.000000e+00</td>\n",
       "      <td>-1.0</td>\n",
       "      <td>-1.000000e+00</td>\n",
       "      <td>-1.000000e+00</td>\n",
       "      <td>-1.000000e+00</td>\n",
       "      <td>-1.000000e+00</td>\n",
       "    </tr>\n",
       "  </tbody>\n",
       "</table>\n",
       "</div>"
      ],
      "text/plain": [
       "                        count          mean           std   min           25%  \\\n",
       "res_id                55568.0  1.313694e+07  8.105959e+06  50.0  3.001352e+06   \n",
       "city_id               55568.0  3.409499e+03  5.174943e+03   1.0  8.000000e+00   \n",
       "latitude              55568.0  2.145085e+01  4.290109e+01   0.0  1.651851e+01   \n",
       "longitude             55568.0  7.649713e+01  1.098298e+01   0.0  7.464589e+01   \n",
       "country_id            55568.0  1.000000e+00  0.000000e+00   1.0  1.000000e+00   \n",
       "average_cost_for_two  55568.0  5.282059e+02  5.950284e+02   0.0  2.000000e+02   \n",
       "price_range           55568.0  1.714728e+00  8.782270e-01   1.0  1.000000e+00   \n",
       "aggregate_rating      55568.0  2.958593e+00  1.464576e+00   0.0  2.900000e+00   \n",
       "votes                 55568.0  2.233327e+02  6.182233e+02   0.0  6.000000e+00   \n",
       "photo_count           55568.0  1.609748e+02  5.869754e+02   0.0  1.000000e+00   \n",
       "opentable_support     55556.0  0.000000e+00  0.000000e+00   0.0  0.000000e+00   \n",
       "delivery              55568.0 -3.498236e-01  9.337935e-01  -1.0 -1.000000e+00   \n",
       "takeaway              55568.0 -1.000000e+00  0.000000e+00  -1.0 -1.000000e+00   \n",
       "\n",
       "                               50%           75%           max  \n",
       "res_id                1.869268e+07  1.887262e+07  1.915979e+07  \n",
       "city_id               2.600000e+01  1.129400e+04  1.135400e+04  \n",
       "latitude              2.246850e+01  2.675291e+01  1.000000e+04  \n",
       "longitude             7.710635e+01  7.983164e+01  9.183277e+01  \n",
       "country_id            1.000000e+00  1.000000e+00  1.000000e+00  \n",
       "average_cost_for_two  3.500000e+02  6.000000e+02  3.000000e+04  \n",
       "price_range           1.000000e+00  2.000000e+00  4.000000e+00  \n",
       "aggregate_rating      3.500000e+00  3.900000e+00  4.900000e+00  \n",
       "votes                 3.500000e+01  1.750000e+02  4.253900e+04  \n",
       "photo_count           1.000000e+01  6.900000e+01  1.770200e+04  \n",
       "opentable_support     0.000000e+00  0.000000e+00  0.000000e+00  \n",
       "delivery             -1.000000e+00  1.000000e+00  1.000000e+00  \n",
       "takeaway             -1.000000e+00 -1.000000e+00 -1.000000e+00  "
      ]
     },
     "execution_count": 154,
     "metadata": {},
     "output_type": "execute_result"
    }
   ],
   "source": [
    "df1.describe().T"
   ]
  },
  {
   "cell_type": "markdown",
   "metadata": {
    "id": "TBbvg12IRksI"
   },
   "source": [
    "<a id = 'Understanding_variables'> </a>\n",
    "## 6. Understand the variables"
   ]
  },
  {
   "cell_type": "markdown",
   "metadata": {
    "id": "by35230NRksI"
   },
   "source": [
    "**1. Variable 'name'**"
   ]
  },
  {
   "cell_type": "code",
   "execution_count": 155,
   "metadata": {},
   "outputs": [
    {
     "data": {
      "text/plain": [
       "name\n",
       "Dominos Pizza                     406\n",
       "Cafe Coffee Day                   315\n",
       "KFC                               204\n",
       "Baskin Robbins Ice Cream          203\n",
       "Keventers                         190\n",
       "                                 ... \n",
       "Shri Karchi Kadhai                  1\n",
       "The Gym Kitchen                     1\n",
       "Indish - Radisson                   1\n",
       "The Bridge - Clarks Inn Suites      1\n",
       "Geeta lodge                         1\n",
       "Name: count, Length: 40964, dtype: int64"
      ]
     },
     "execution_count": 155,
     "metadata": {},
     "output_type": "execute_result"
    }
   ],
   "source": [
    "# most popular restaurants\n",
    "outlets = df1['name'].value_counts()\n",
    "outlets"
   ]
  },
  {
   "cell_type": "code",
   "execution_count": 156,
   "metadata": {},
   "outputs": [
    {
     "data": {
      "text/plain": [
       "name\n",
       "Dominos Pizza                  406\n",
       "Cafe Coffee Day                315\n",
       "KFC                            204\n",
       "Baskin Robbins Ice Cream       203\n",
       "Keventers                      190\n",
       "                              ... \n",
       "Ajwa Restaurant                  2\n",
       "Sandwich                         2\n",
       "Ashirwad Village Restaurant      2\n",
       "Bhola Mutton Shop                2\n",
       "Diggin                           2\n",
       "Name: count, Length: 4895, dtype: int64"
      ]
     },
     "execution_count": 156,
     "metadata": {},
     "output_type": "execute_result"
    }
   ],
   "source": [
    "franchise = outlets[outlets >= 2]\n",
    "franchise"
   ]
  },
  {
   "cell_type": "code",
   "execution_count": 157,
   "metadata": {},
   "outputs": [
    {
     "data": {
      "text/plain": [
       "name\n",
       "Golden Dragon - The Taj Mahal Palace    1\n",
       "Frangipani - Trident Nariman Point      1\n",
       "Rue Du Liban                            1\n",
       "Bling by The Hill Green                 1\n",
       "Suvarana Bhavan                         1\n",
       "                                       ..\n",
       "Shri Karchi Kadhai                      1\n",
       "The Gym Kitchen                         1\n",
       "Indish - Radisson                       1\n",
       "The Bridge - Clarks Inn Suites          1\n",
       "Geeta lodge                             1\n",
       "Name: count, Length: 36069, dtype: int64"
      ]
     },
     "execution_count": 157,
     "metadata": {},
     "output_type": "execute_result"
    }
   ],
   "source": [
    "independent = outlets[outlets == 1]\n",
    "independent"
   ]
  },
  {
   "cell_type": "code",
   "execution_count": 158,
   "metadata": {},
   "outputs": [
    {
     "name": "stdout",
     "output_type": "stream",
     "text": [
      "Total restaurants = 55568\n",
      "Total Franchise restaurants = 19499\n",
      "Percentage of Franchise restaurants = 35.0\n"
     ]
    }
   ],
   "source": [
    "print(f\"Total restaurants = {df1.shape[0]}\")\n",
    "print(f\"Total Franchise restaurants = {df1.shape[0] - independent.shape[0]}\")\n",
    "print(f\"Percentage of Franchise restaurants = {np.round((df1.shape[0] - independent.shape[0])/df1.shape[0],2)*100}\")"
   ]
  },
  {
   "cell_type": "markdown",
   "metadata": {},
   "source": [
    "`Insight` - 35% of total restaurants are part of some kind of Franchise restaurant."
   ]
  },
  {
   "cell_type": "code",
   "execution_count": 159,
   "metadata": {
    "id": "FnruiCsURksI",
    "outputId": "dea16568-51f1-4d64-95de-6c647edd19a1"
   },
   "outputs": [
    {
     "data": {
      "text/html": [
       "<div>\n",
       "<style scoped>\n",
       "    .dataframe tbody tr th:only-of-type {\n",
       "        vertical-align: middle;\n",
       "    }\n",
       "\n",
       "    .dataframe tbody tr th {\n",
       "        vertical-align: top;\n",
       "    }\n",
       "\n",
       "    .dataframe thead th {\n",
       "        text-align: right;\n",
       "    }\n",
       "</style>\n",
       "<table border=\"1\" class=\"dataframe\">\n",
       "  <thead>\n",
       "    <tr style=\"text-align: right;\">\n",
       "      <th></th>\n",
       "      <th>name</th>\n",
       "      <th>aggregate_rating</th>\n",
       "    </tr>\n",
       "  </thead>\n",
       "  <tbody>\n",
       "    <tr>\n",
       "      <th>37790</th>\n",
       "      <td>ARK 2.0 - Courtyard By Marriott</td>\n",
       "      <td>4.9</td>\n",
       "    </tr>\n",
       "    <tr>\n",
       "      <th>37789</th>\n",
       "      <td>Konkani Haus Restaurant &amp; Bar</td>\n",
       "      <td>4.9</td>\n",
       "    </tr>\n",
       "    <tr>\n",
       "      <th>43284</th>\n",
       "      <td>Gelateria Montecatini Terme</td>\n",
       "      <td>4.9</td>\n",
       "    </tr>\n",
       "    <tr>\n",
       "      <th>31167</th>\n",
       "      <td>Girish Chandra Dey &amp; Nakur Chandra Nandy</td>\n",
       "      <td>4.9</td>\n",
       "    </tr>\n",
       "    <tr>\n",
       "      <th>15594</th>\n",
       "      <td>Walking Street</td>\n",
       "      <td>4.9</td>\n",
       "    </tr>\n",
       "    <tr>\n",
       "      <th>...</th>\n",
       "      <td>...</td>\n",
       "      <td>...</td>\n",
       "    </tr>\n",
       "    <tr>\n",
       "      <th>16</th>\n",
       "      <td>Pinch Of Spice</td>\n",
       "      <td>4.6</td>\n",
       "    </tr>\n",
       "    <tr>\n",
       "      <th>21186</th>\n",
       "      <td>Coconut Juice Bar</td>\n",
       "      <td>4.6</td>\n",
       "    </tr>\n",
       "    <tr>\n",
       "      <th>8204</th>\n",
       "      <td>BOCCA Cafe</td>\n",
       "      <td>4.6</td>\n",
       "    </tr>\n",
       "    <tr>\n",
       "      <th>22</th>\n",
       "      <td>Pinch Of Spice</td>\n",
       "      <td>4.6</td>\n",
       "    </tr>\n",
       "    <tr>\n",
       "      <th>8224</th>\n",
       "      <td>Biggies Burger n More</td>\n",
       "      <td>4.6</td>\n",
       "    </tr>\n",
       "  </tbody>\n",
       "</table>\n",
       "<p>939 rows × 2 columns</p>\n",
       "</div>"
      ],
      "text/plain": [
       "                                           name  aggregate_rating\n",
       "37790           ARK 2.0 - Courtyard By Marriott               4.9\n",
       "37789             Konkani Haus Restaurant & Bar               4.9\n",
       "43284               Gelateria Montecatini Terme               4.9\n",
       "31167  Girish Chandra Dey & Nakur Chandra Nandy               4.9\n",
       "15594                            Walking Street               4.9\n",
       "...                                         ...               ...\n",
       "16                               Pinch Of Spice               4.6\n",
       "21186                         Coconut Juice Bar               4.6\n",
       "8204                                 BOCCA Cafe               4.6\n",
       "22                               Pinch Of Spice               4.6\n",
       "8224                      Biggies Burger n More               4.6\n",
       "\n",
       "[939 rows x 2 columns]"
      ]
     },
     "execution_count": 159,
     "metadata": {},
     "output_type": "execute_result"
    }
   ],
   "source": [
    "# restaurants which got the aggregate rating more than 4.5\n",
    "\n",
    "filter_data = df1.filter(items = ['name','aggregate_rating']).sort_values(by = 'aggregate_rating',ascending = False)\n",
    "filter_data[filter_data['aggregate_rating'] > 4.5]"
   ]
  },
  {
   "cell_type": "markdown",
   "metadata": {
    "id": "JihZ3_92RksK"
   },
   "source": [
    "**2. Variable 'establishment'**"
   ]
  },
  {
   "cell_type": "code",
   "execution_count": 160,
   "metadata": {},
   "outputs": [
    {
     "data": {
      "text/plain": [
       "establishment\n",
       "Quick Bites        14032\n",
       "Casual Dining      12270\n",
       "Café                4123\n",
       "Bakery              3741\n",
       "Dessert Parlour     3675\n",
       "Sweet Shop          2615\n",
       "Beverage Shop       2440\n",
       "Fine Dining         1535\n",
       "Food Court          1494\n",
       "Bar                 1399\n",
       "Dhaba               1282\n",
       "Kiosk               1126\n",
       "Food Truck           868\n",
       "Lounge               820\n",
       "Bhojanalya           632\n",
       "Mess                 361\n",
       "Pub                  357\n",
       "Paan Shop            320\n",
       "Confectionery        218\n",
       "Butcher Shop         154\n",
       "Club                 112\n",
       "Microbrewery         110\n",
       "Shack                 20\n",
       "Cocktail Bar          16\n",
       "Irani Cafe            14\n",
       "Pop up                 4\n",
       "Name: count, dtype: int64"
      ]
     },
     "execution_count": 160,
     "metadata": {},
     "output_type": "execute_result"
    }
   ],
   "source": [
    "# most common type of restaurants by establishment\n",
    "df1['establishment'].value_counts()     "
   ]
  },
  {
   "cell_type": "code",
   "execution_count": 161,
   "metadata": {},
   "outputs": [
    {
     "data": {
      "text/plain": [
       "26"
      ]
     },
     "execution_count": 161,
     "metadata": {},
     "output_type": "execute_result"
    }
   ],
   "source": [
    "# number of unique establishments\n",
    "df1['establishment'].nunique()"
   ]
  },
  {
   "cell_type": "code",
   "execution_count": 162,
   "metadata": {},
   "outputs": [
    {
     "data": {
      "text/plain": [
       "establishment\n",
       "Quick Bites        14032\n",
       "Casual Dining      12270\n",
       "Café                4123\n",
       "Bakery              3741\n",
       "Dessert Parlour     3675\n",
       "Name: res_id, dtype: int64"
      ]
     },
     "execution_count": 162,
     "metadata": {},
     "output_type": "execute_result"
    }
   ],
   "source": [
    "# Top 5 establishments\n",
    "Top5_est = df1.groupby('establishment')['res_id'].count().sort_values(ascending = False)[:5]\n",
    "Top5_est"
   ]
  },
  {
   "cell_type": "code",
   "execution_count": 163,
   "metadata": {},
   "outputs": [
    {
     "data": {
      "text/html": [
       "<div>\n",
       "<style scoped>\n",
       "    .dataframe tbody tr th:only-of-type {\n",
       "        vertical-align: middle;\n",
       "    }\n",
       "\n",
       "    .dataframe tbody tr th {\n",
       "        vertical-align: top;\n",
       "    }\n",
       "\n",
       "    .dataframe thead th {\n",
       "        text-align: right;\n",
       "    }\n",
       "</style>\n",
       "<table border=\"1\" class=\"dataframe\">\n",
       "  <thead>\n",
       "    <tr style=\"text-align: right;\">\n",
       "      <th>establishment</th>\n",
       "      <th>Bakery</th>\n",
       "      <th>Bar</th>\n",
       "      <th>Beverage Shop</th>\n",
       "      <th>Bhojanalya</th>\n",
       "      <th>Butcher Shop</th>\n",
       "      <th>Café</th>\n",
       "      <th>Casual Dining</th>\n",
       "      <th>Club</th>\n",
       "      <th>Cocktail Bar</th>\n",
       "      <th>Confectionery</th>\n",
       "      <th>...</th>\n",
       "      <th>Lounge</th>\n",
       "      <th>Mess</th>\n",
       "      <th>Microbrewery</th>\n",
       "      <th>Paan Shop</th>\n",
       "      <th>Pop up</th>\n",
       "      <th>Pub</th>\n",
       "      <th>Quick Bites</th>\n",
       "      <th>Shack</th>\n",
       "      <th>Sweet Shop</th>\n",
       "      <th>All</th>\n",
       "    </tr>\n",
       "    <tr>\n",
       "      <th>city</th>\n",
       "      <th></th>\n",
       "      <th></th>\n",
       "      <th></th>\n",
       "      <th></th>\n",
       "      <th></th>\n",
       "      <th></th>\n",
       "      <th></th>\n",
       "      <th></th>\n",
       "      <th></th>\n",
       "      <th></th>\n",
       "      <th></th>\n",
       "      <th></th>\n",
       "      <th></th>\n",
       "      <th></th>\n",
       "      <th></th>\n",
       "      <th></th>\n",
       "      <th></th>\n",
       "      <th></th>\n",
       "      <th></th>\n",
       "      <th></th>\n",
       "      <th></th>\n",
       "    </tr>\n",
       "  </thead>\n",
       "  <tbody>\n",
       "    <tr>\n",
       "      <th>Agra</th>\n",
       "      <td>74</td>\n",
       "      <td>22</td>\n",
       "      <td>28</td>\n",
       "      <td>25</td>\n",
       "      <td>0</td>\n",
       "      <td>44</td>\n",
       "      <td>163</td>\n",
       "      <td>1</td>\n",
       "      <td>0</td>\n",
       "      <td>6</td>\n",
       "      <td>...</td>\n",
       "      <td>10</td>\n",
       "      <td>0</td>\n",
       "      <td>0</td>\n",
       "      <td>6</td>\n",
       "      <td>0</td>\n",
       "      <td>2</td>\n",
       "      <td>190</td>\n",
       "      <td>4</td>\n",
       "      <td>96</td>\n",
       "      <td>819</td>\n",
       "    </tr>\n",
       "    <tr>\n",
       "      <th>Ahmedabad</th>\n",
       "      <td>24</td>\n",
       "      <td>0</td>\n",
       "      <td>88</td>\n",
       "      <td>43</td>\n",
       "      <td>0</td>\n",
       "      <td>106</td>\n",
       "      <td>245</td>\n",
       "      <td>0</td>\n",
       "      <td>0</td>\n",
       "      <td>1</td>\n",
       "      <td>...</td>\n",
       "      <td>0</td>\n",
       "      <td>0</td>\n",
       "      <td>0</td>\n",
       "      <td>4</td>\n",
       "      <td>0</td>\n",
       "      <td>0</td>\n",
       "      <td>251</td>\n",
       "      <td>0</td>\n",
       "      <td>88</td>\n",
       "      <td>1208</td>\n",
       "    </tr>\n",
       "    <tr>\n",
       "      <th>Ajmer</th>\n",
       "      <td>22</td>\n",
       "      <td>8</td>\n",
       "      <td>16</td>\n",
       "      <td>1</td>\n",
       "      <td>0</td>\n",
       "      <td>22</td>\n",
       "      <td>66</td>\n",
       "      <td>0</td>\n",
       "      <td>0</td>\n",
       "      <td>1</td>\n",
       "      <td>...</td>\n",
       "      <td>3</td>\n",
       "      <td>1</td>\n",
       "      <td>0</td>\n",
       "      <td>5</td>\n",
       "      <td>0</td>\n",
       "      <td>0</td>\n",
       "      <td>184</td>\n",
       "      <td>1</td>\n",
       "      <td>25</td>\n",
       "      <td>391</td>\n",
       "    </tr>\n",
       "    <tr>\n",
       "      <th>Alappuzha</th>\n",
       "      <td>60</td>\n",
       "      <td>2</td>\n",
       "      <td>18</td>\n",
       "      <td>0</td>\n",
       "      <td>0</td>\n",
       "      <td>8</td>\n",
       "      <td>67</td>\n",
       "      <td>0</td>\n",
       "      <td>0</td>\n",
       "      <td>0</td>\n",
       "      <td>...</td>\n",
       "      <td>0</td>\n",
       "      <td>0</td>\n",
       "      <td>0</td>\n",
       "      <td>0</td>\n",
       "      <td>0</td>\n",
       "      <td>0</td>\n",
       "      <td>93</td>\n",
       "      <td>0</td>\n",
       "      <td>1</td>\n",
       "      <td>254</td>\n",
       "    </tr>\n",
       "    <tr>\n",
       "      <th>Allahabad</th>\n",
       "      <td>22</td>\n",
       "      <td>5</td>\n",
       "      <td>17</td>\n",
       "      <td>9</td>\n",
       "      <td>1</td>\n",
       "      <td>39</td>\n",
       "      <td>136</td>\n",
       "      <td>0</td>\n",
       "      <td>0</td>\n",
       "      <td>0</td>\n",
       "      <td>...</td>\n",
       "      <td>6</td>\n",
       "      <td>0</td>\n",
       "      <td>0</td>\n",
       "      <td>2</td>\n",
       "      <td>0</td>\n",
       "      <td>0</td>\n",
       "      <td>172</td>\n",
       "      <td>0</td>\n",
       "      <td>30</td>\n",
       "      <td>531</td>\n",
       "    </tr>\n",
       "    <tr>\n",
       "      <th>...</th>\n",
       "      <td>...</td>\n",
       "      <td>...</td>\n",
       "      <td>...</td>\n",
       "      <td>...</td>\n",
       "      <td>...</td>\n",
       "      <td>...</td>\n",
       "      <td>...</td>\n",
       "      <td>...</td>\n",
       "      <td>...</td>\n",
       "      <td>...</td>\n",
       "      <td>...</td>\n",
       "      <td>...</td>\n",
       "      <td>...</td>\n",
       "      <td>...</td>\n",
       "      <td>...</td>\n",
       "      <td>...</td>\n",
       "      <td>...</td>\n",
       "      <td>...</td>\n",
       "      <td>...</td>\n",
       "      <td>...</td>\n",
       "      <td>...</td>\n",
       "    </tr>\n",
       "    <tr>\n",
       "      <th>Vellore</th>\n",
       "      <td>11</td>\n",
       "      <td>6</td>\n",
       "      <td>19</td>\n",
       "      <td>0</td>\n",
       "      <td>0</td>\n",
       "      <td>10</td>\n",
       "      <td>81</td>\n",
       "      <td>0</td>\n",
       "      <td>0</td>\n",
       "      <td>0</td>\n",
       "      <td>...</td>\n",
       "      <td>1</td>\n",
       "      <td>7</td>\n",
       "      <td>0</td>\n",
       "      <td>0</td>\n",
       "      <td>0</td>\n",
       "      <td>0</td>\n",
       "      <td>113</td>\n",
       "      <td>0</td>\n",
       "      <td>3</td>\n",
       "      <td>280</td>\n",
       "    </tr>\n",
       "    <tr>\n",
       "      <th>Vijayawada</th>\n",
       "      <td>23</td>\n",
       "      <td>14</td>\n",
       "      <td>32</td>\n",
       "      <td>0</td>\n",
       "      <td>0</td>\n",
       "      <td>11</td>\n",
       "      <td>136</td>\n",
       "      <td>0</td>\n",
       "      <td>0</td>\n",
       "      <td>0</td>\n",
       "      <td>...</td>\n",
       "      <td>0</td>\n",
       "      <td>5</td>\n",
       "      <td>0</td>\n",
       "      <td>0</td>\n",
       "      <td>0</td>\n",
       "      <td>1</td>\n",
       "      <td>165</td>\n",
       "      <td>0</td>\n",
       "      <td>13</td>\n",
       "      <td>470</td>\n",
       "    </tr>\n",
       "    <tr>\n",
       "      <th>Vizag</th>\n",
       "      <td>47</td>\n",
       "      <td>9</td>\n",
       "      <td>49</td>\n",
       "      <td>2</td>\n",
       "      <td>0</td>\n",
       "      <td>35</td>\n",
       "      <td>165</td>\n",
       "      <td>0</td>\n",
       "      <td>0</td>\n",
       "      <td>2</td>\n",
       "      <td>...</td>\n",
       "      <td>2</td>\n",
       "      <td>2</td>\n",
       "      <td>1</td>\n",
       "      <td>3</td>\n",
       "      <td>0</td>\n",
       "      <td>0</td>\n",
       "      <td>203</td>\n",
       "      <td>0</td>\n",
       "      <td>16</td>\n",
       "      <td>682</td>\n",
       "    </tr>\n",
       "    <tr>\n",
       "      <th>Zirakpur</th>\n",
       "      <td>8</td>\n",
       "      <td>3</td>\n",
       "      <td>16</td>\n",
       "      <td>0</td>\n",
       "      <td>2</td>\n",
       "      <td>4</td>\n",
       "      <td>24</td>\n",
       "      <td>2</td>\n",
       "      <td>0</td>\n",
       "      <td>1</td>\n",
       "      <td>...</td>\n",
       "      <td>2</td>\n",
       "      <td>0</td>\n",
       "      <td>1</td>\n",
       "      <td>1</td>\n",
       "      <td>0</td>\n",
       "      <td>0</td>\n",
       "      <td>32</td>\n",
       "      <td>0</td>\n",
       "      <td>5</td>\n",
       "      <td>147</td>\n",
       "    </tr>\n",
       "    <tr>\n",
       "      <th>All</th>\n",
       "      <td>3741</td>\n",
       "      <td>1399</td>\n",
       "      <td>2440</td>\n",
       "      <td>632</td>\n",
       "      <td>154</td>\n",
       "      <td>4123</td>\n",
       "      <td>12270</td>\n",
       "      <td>112</td>\n",
       "      <td>16</td>\n",
       "      <td>218</td>\n",
       "      <td>...</td>\n",
       "      <td>820</td>\n",
       "      <td>361</td>\n",
       "      <td>110</td>\n",
       "      <td>320</td>\n",
       "      <td>4</td>\n",
       "      <td>357</td>\n",
       "      <td>14032</td>\n",
       "      <td>20</td>\n",
       "      <td>2615</td>\n",
       "      <td>53738</td>\n",
       "    </tr>\n",
       "  </tbody>\n",
       "</table>\n",
       "<p>99 rows × 27 columns</p>\n",
       "</div>"
      ],
      "text/plain": [
       "establishment  Bakery   Bar  Beverage Shop  Bhojanalya  Butcher Shop  Café  \\\n",
       "city                                                                         \n",
       "Agra               74    22             28          25             0    44   \n",
       "Ahmedabad          24     0             88          43             0   106   \n",
       "Ajmer              22     8             16           1             0    22   \n",
       "Alappuzha          60     2             18           0             0     8   \n",
       "Allahabad          22     5             17           9             1    39   \n",
       "...               ...   ...            ...         ...           ...   ...   \n",
       "Vellore            11     6             19           0             0    10   \n",
       "Vijayawada         23    14             32           0             0    11   \n",
       "Vizag              47     9             49           2             0    35   \n",
       "Zirakpur            8     3             16           0             2     4   \n",
       "All              3741  1399           2440         632           154  4123   \n",
       "\n",
       "establishment  Casual Dining  Club  Cocktail Bar  Confectionery  ...  Lounge  \\\n",
       "city                                                             ...           \n",
       "Agra                     163     1             0              6  ...      10   \n",
       "Ahmedabad                245     0             0              1  ...       0   \n",
       "Ajmer                     66     0             0              1  ...       3   \n",
       "Alappuzha                 67     0             0              0  ...       0   \n",
       "Allahabad                136     0             0              0  ...       6   \n",
       "...                      ...   ...           ...            ...  ...     ...   \n",
       "Vellore                   81     0             0              0  ...       1   \n",
       "Vijayawada               136     0             0              0  ...       0   \n",
       "Vizag                    165     0             0              2  ...       2   \n",
       "Zirakpur                  24     2             0              1  ...       2   \n",
       "All                    12270   112            16            218  ...     820   \n",
       "\n",
       "establishment  Mess  Microbrewery  Paan Shop  Pop up  Pub  Quick Bites  Shack  \\\n",
       "city                                                                            \n",
       "Agra              0             0          6       0    2          190      4   \n",
       "Ahmedabad         0             0          4       0    0          251      0   \n",
       "Ajmer             1             0          5       0    0          184      1   \n",
       "Alappuzha         0             0          0       0    0           93      0   \n",
       "Allahabad         0             0          2       0    0          172      0   \n",
       "...             ...           ...        ...     ...  ...          ...    ...   \n",
       "Vellore           7             0          0       0    0          113      0   \n",
       "Vijayawada        5             0          0       0    1          165      0   \n",
       "Vizag             2             1          3       0    0          203      0   \n",
       "Zirakpur          0             1          1       0    0           32      0   \n",
       "All             361           110        320       4  357        14032     20   \n",
       "\n",
       "establishment  Sweet Shop    All  \n",
       "city                              \n",
       "Agra                   96    819  \n",
       "Ahmedabad              88   1208  \n",
       "Ajmer                  25    391  \n",
       "Alappuzha               1    254  \n",
       "Allahabad              30    531  \n",
       "...                   ...    ...  \n",
       "Vellore                 3    280  \n",
       "Vijayawada             13    470  \n",
       "Vizag                  16    682  \n",
       "Zirakpur                5    147  \n",
       "All                  2615  53738  \n",
       "\n",
       "[99 rows x 27 columns]"
      ]
     },
     "execution_count": 163,
     "metadata": {},
     "output_type": "execute_result"
    }
   ],
   "source": [
    "pd.crosstab(df1.city, df1.establishment, margins = True)"
   ]
  },
  {
   "cell_type": "markdown",
   "metadata": {
    "id": "QOXnrF86RksQ"
   },
   "source": [
    "**3. Variable 'city'**"
   ]
  },
  {
   "cell_type": "code",
   "execution_count": 164,
   "metadata": {},
   "outputs": [
    {
     "data": {
      "text/plain": [
       "city\n",
       "Bangalore        2247\n",
       "Mumbai           2022\n",
       "Pune             1843\n",
       "Chennai          1827\n",
       "New Delhi        1704\n",
       "                 ... \n",
       "Udupi              60\n",
       "Howrah             50\n",
       "Neemrana           26\n",
       "Greater Noida      21\n",
       "Nayagaon           15\n",
       "Name: count, Length: 98, dtype: int64"
      ]
     },
     "execution_count": 164,
     "metadata": {},
     "output_type": "execute_result"
    }
   ],
   "source": [
    "# most number of restaurants are in Bangalore\n",
    "df1['city'].value_counts()  "
   ]
  },
  {
   "cell_type": "code",
   "execution_count": 165,
   "metadata": {},
   "outputs": [
    {
     "data": {
      "text/plain": [
       "(1704, 26)"
      ]
     },
     "execution_count": 165,
     "metadata": {},
     "output_type": "execute_result"
    }
   ],
   "source": [
    "df1[df1['city'] == 'New Delhi'].shape"
   ]
  },
  {
   "cell_type": "code",
   "execution_count": 166,
   "metadata": {},
   "outputs": [
    {
     "data": {
      "text/plain": [
       "(727, 26)"
      ]
     },
     "execution_count": 166,
     "metadata": {},
     "output_type": "execute_result"
    }
   ],
   "source": [
    "df1[df1['city'] == 'Nashik'].shape"
   ]
  },
  {
   "cell_type": "code",
   "execution_count": 167,
   "metadata": {},
   "outputs": [
    {
     "data": {
      "text/plain": [
       "98"
      ]
     },
     "execution_count": 167,
     "metadata": {},
     "output_type": "execute_result"
    }
   ],
   "source": [
    "df1['city'].nunique()"
   ]
  },
  {
   "cell_type": "code",
   "execution_count": 168,
   "metadata": {},
   "outputs": [
    {
     "data": {
      "text/plain": [
       "array(['Agra', 'Ahmedabad', 'Gandhinagar', 'Ajmer', 'Alappuzha',\n",
       "       'Allahabad', 'Amravati', 'Amritsar', 'Aurangabad', 'Bangalore',\n",
       "       'Bhopal', 'Bhubaneshwar', 'Chandigarh', 'Mohali', 'Panchkula',\n",
       "       'Zirakpur', 'Nayagaon', 'Chennai', 'Coimbatore', 'Cuttack',\n",
       "       'Darjeeling', 'Dehradun', 'New Delhi', 'Gurgaon', 'Noida',\n",
       "       'Faridabad', 'Ghaziabad', 'Greater Noida', 'Dharamshala',\n",
       "       'Gangtok', 'Goa', 'Gorakhpur', 'Guntur', 'Guwahati', 'Gwalior',\n",
       "       'Haridwar', 'Hyderabad', 'Secunderabad', 'Indore', 'Jabalpur',\n",
       "       'Jaipur', 'Jalandhar', 'Jammu', 'Jamnagar', 'Jamshedpur', 'Jhansi',\n",
       "       'Jodhpur', 'Junagadh', 'Kanpur', 'Kharagpur', 'Kochi', 'Kolhapur',\n",
       "       'Kolkata', 'Howrah', 'Kota', 'Lucknow', 'Ludhiana', 'Madurai',\n",
       "       'Manali', 'Mangalore', 'Manipal', 'Udupi', 'Meerut', 'Mumbai',\n",
       "       'Thane', 'Navi Mumbai', 'Mussoorie', 'Mysore', 'Nagpur',\n",
       "       'Nainital', 'Nashik', 'Neemrana', 'Ooty', 'Palakkad', 'Patiala',\n",
       "       'Patna', 'Puducherry', 'Pune', 'Pushkar', 'Raipur', 'Rajkot',\n",
       "       'Ranchi', 'Rishikesh', 'Salem', 'Shimla', 'Siliguri', 'Srinagar',\n",
       "       'Surat', 'Thrissur', 'Tirupati', 'Trichy', 'Trivandrum', 'Udaipur',\n",
       "       'Varanasi', 'Vellore', 'Vijayawada', 'Vizag', 'Vadodara'],\n",
       "      dtype=object)"
      ]
     },
     "execution_count": 168,
     "metadata": {},
     "output_type": "execute_result"
    }
   ],
   "source": [
    "df1['city'].unique()"
   ]
  },
  {
   "cell_type": "markdown",
   "metadata": {
    "id": "mcnn9P72RksS"
   },
   "source": [
    "**4. Variable 'locality'**"
   ]
  },
  {
   "cell_type": "code",
   "execution_count": 169,
   "metadata": {
    "id": "ajLc2XlBRksS",
    "outputId": "d4d45a03-20fc-4785-d348-2145c629424a"
   },
   "outputs": [
    {
     "data": {
      "text/plain": [
       "3731"
      ]
     },
     "execution_count": 169,
     "metadata": {},
     "output_type": "execute_result"
    }
   ],
   "source": [
    "df1['locality'].nunique()"
   ]
  },
  {
   "cell_type": "code",
   "execution_count": 170,
   "metadata": {},
   "outputs": [
    {
     "data": {
      "text/plain": [
       "locality\n",
       "Civil Lines                           752\n",
       "Model Town                            447\n",
       "Shastri Nagar                         392\n",
       "Vijay Nagar                           380\n",
       "Gomti Nagar                           274\n",
       "                                     ... \n",
       "Fairfield by Marriot, Chengalpattu      1\n",
       "La Woods Hotel, Thousand Lights         1\n",
       "Hotel Marina Inn, Egmore                1\n",
       "Hotel Ranjith, Nungambakkam             1\n",
       "Broad Bean Hotel                        1\n",
       "Name: count, Length: 3731, dtype: int64"
      ]
     },
     "execution_count": 170,
     "metadata": {},
     "output_type": "execute_result"
    }
   ],
   "source": [
    "df1['locality'].value_counts()"
   ]
  },
  {
   "cell_type": "code",
   "execution_count": 171,
   "metadata": {},
   "outputs": [
    {
     "data": {
      "text/plain": [
       "city\n",
       "Bangalore        2247\n",
       "Mumbai           2022\n",
       "Pune             1843\n",
       "Chennai          1827\n",
       "New Delhi        1704\n",
       "                 ... \n",
       "Udupi              60\n",
       "Howrah             50\n",
       "Neemrana           26\n",
       "Greater Noida      21\n",
       "Nayagaon           15\n",
       "Name: locality, Length: 98, dtype: int64"
      ]
     },
     "execution_count": 171,
     "metadata": {},
     "output_type": "execute_result"
    }
   ],
   "source": [
    "df1.groupby('city')['locality'].count().sort_values(ascending = False)"
   ]
  },
  {
   "cell_type": "code",
   "execution_count": 172,
   "metadata": {},
   "outputs": [
    {
     "data": {
      "text/plain": [
       "locality\n",
       "Andheri Lokhandwala, Andheri West      76\n",
       "Malad West                             74\n",
       "Borivali West                          67\n",
       "Powai                                  59\n",
       "Fort                                   52\n",
       "                                       ..\n",
       "Star Mall, Dadar West                   1\n",
       "Sun n Sand Hotel, Juhu                  1\n",
       "Svenska Design Hotel, Andheri West      1\n",
       "T24 Residency, Marol                    1\n",
       " Royal Challenge Complex, Goregaon      1\n",
       "Name: city, Length: 192, dtype: int64"
      ]
     },
     "execution_count": 172,
     "metadata": {},
     "output_type": "execute_result"
    }
   ],
   "source": [
    "# most popular locality in Mumbai\n",
    "\n",
    "f2 = df1.filter(items = ['res_id', 'city','locality'])\n",
    "\n",
    "f3 = f2[f2['city'] == 'Mumbai']\n",
    "f3.groupby('locality')['city'].count().sort_values(ascending = False)"
   ]
  },
  {
   "cell_type": "markdown",
   "metadata": {},
   "source": [
    "**Andheri Lokhandwala, Andheri West** is the most popular locality in Mumbai"
   ]
  },
  {
   "cell_type": "code",
   "execution_count": 173,
   "metadata": {},
   "outputs": [
    {
     "data": {
      "text/plain": [
       "0              Civil Lines\n",
       "1              Gomti Nagar\n",
       "2            Jubilee Hills\n",
       "3            Kalyani Nagar\n",
       "4    Koramangala 5th Block\n",
       "5                 Navallur\n",
       "6                Sector 29\n",
       "7                 T. Nagar\n",
       "8                Velachery\n",
       "Name: locality, dtype: object"
      ]
     },
     "execution_count": 173,
     "metadata": {},
     "output_type": "execute_result"
    }
   ],
   "source": [
    "# maximum aggregate rating by locality\n",
    "\n",
    "df1[df1['aggregate_rating'] == df1['aggregate_rating'].max()]['locality'].mode()"
   ]
  },
  {
   "cell_type": "markdown",
   "metadata": {},
   "source": [
    "**Civil Lines** is the locality having maximum aggregate rating"
   ]
  },
  {
   "cell_type": "markdown",
   "metadata": {
    "id": "K5Z_jEgCRksa"
   },
   "source": [
    "**5. Variable 'cuisines'**"
   ]
  },
  {
   "cell_type": "code",
   "execution_count": 174,
   "metadata": {
    "id": "zp4nMxY9Rksb",
    "outputId": "4fef62f8-5a2b-48c0-e1ba-c479572bcf1e"
   },
   "outputs": [
    {
     "data": {
      "text/plain": [
       "9382"
      ]
     },
     "execution_count": 174,
     "metadata": {},
     "output_type": "execute_result"
    }
   ],
   "source": [
    "df1['cuisines'].nunique()"
   ]
  },
  {
   "cell_type": "code",
   "execution_count": 175,
   "metadata": {},
   "outputs": [
    {
     "data": {
      "text/plain": [
       "array(['North Indian, South Indian, Mithai, Street Food, Desserts',\n",
       "       'North Indian, Mughlai, Rolls, Chinese, Fast Food, Street Food',\n",
       "       'Fast Food, Mithai', ...,\n",
       "       'Street Food, Biryani, Chinese, Fast Food, North Indian, Mughlai',\n",
       "       'North Indian, Chinese, Mexican, Italian, Thai, Continental',\n",
       "       'North Indian, Lucknowi, Chinese'], dtype=object)"
      ]
     },
     "execution_count": 175,
     "metadata": {},
     "output_type": "execute_result"
    }
   ],
   "source": [
    "df1['cuisines'].unique()"
   ]
  },
  {
   "cell_type": "markdown",
   "metadata": {},
   "source": [
    "`cuisines` - This feature has some missing values. Even though this has 9382 unique classes, we can see that each restaurant has a list of cuisines and because of the composition of the list we have so many different cuisine classes. Let's check actual number of unique cuisine classes. But first we need to replace null values with a label."
   ]
  },
  {
   "cell_type": "code",
   "execution_count": 176,
   "metadata": {},
   "outputs": [
    {
     "data": {
      "text/plain": [
       "cuisines\n",
       "North Indian                                                        4295\n",
       "Fast Food                                                           2025\n",
       "North Indian, Chinese                                               1636\n",
       "Bakery                                                              1585\n",
       "South Indian                                                        1489\n",
       "                                                                    ... \n",
       "North Indian, South Indian, Asian                                      1\n",
       "Bakery, Desserts, Fast Food, South Indian, Chinese, North Indian       1\n",
       "Continental, American, South Indian, North Indian                      1\n",
       "Ice Cream, Fast Food, Street Food                                      1\n",
       "North Indian, Lucknowi, Chinese                                        1\n",
       "Name: count, Length: 9382, dtype: int64"
      ]
     },
     "execution_count": 176,
     "metadata": {},
     "output_type": "execute_result"
    }
   ],
   "source": [
    "df1['cuisines'].value_counts()"
   ]
  },
  {
   "cell_type": "code",
   "execution_count": 177,
   "metadata": {},
   "outputs": [],
   "source": [
    "df1['cuisines'].fillna('No cuisine', inplace = True)"
   ]
  },
  {
   "cell_type": "code",
   "execution_count": 178,
   "metadata": {},
   "outputs": [
    {
     "name": "stdout",
     "output_type": "stream",
     "text": [
      "Total number of unique cuisines =  134\n"
     ]
    }
   ],
   "source": [
    "cuisines = []\n",
    "df1[\"cuisines\"].apply(lambda x : cuisines.extend(str(x).split(\", \")))\n",
    "cuisines = pd.Series(cuisines)\n",
    "print(\"Total number of unique cuisines = \", cuisines.nunique())"
   ]
  },
  {
   "cell_type": "code",
   "execution_count": 179,
   "metadata": {},
   "outputs": [
    {
     "data": {
      "text/plain": [
       "0"
      ]
     },
     "execution_count": 179,
     "metadata": {},
     "output_type": "execute_result"
    }
   ],
   "source": [
    "df1['cuisines'].isnull().sum()"
   ]
  },
  {
   "cell_type": "code",
   "execution_count": 180,
   "metadata": {},
   "outputs": [
    {
     "data": {
      "text/plain": [
       "cuisines\n",
       "North Indian             4295\n",
       "Fast Food                2025\n",
       "North Indian, Chinese    1636\n",
       "Bakery                   1585\n",
       "South Indian             1489\n",
       "Name: res_id, dtype: int64"
      ]
     },
     "execution_count": 180,
     "metadata": {},
     "output_type": "execute_result"
    }
   ],
   "source": [
    "# Number of restaurants by cuisines\n",
    "\n",
    "res_by_cuis = df1.groupby('cuisines')['res_id'].count().sort_values(ascending = False)[:5]\n",
    "res_by_cuis"
   ]
  },
  {
   "cell_type": "code",
   "execution_count": 181,
   "metadata": {},
   "outputs": [
    {
     "data": {
      "text/html": [
       "<div>\n",
       "<style scoped>\n",
       "    .dataframe tbody tr th:only-of-type {\n",
       "        vertical-align: middle;\n",
       "    }\n",
       "\n",
       "    .dataframe tbody tr th {\n",
       "        vertical-align: top;\n",
       "    }\n",
       "\n",
       "    .dataframe thead th {\n",
       "        text-align: right;\n",
       "    }\n",
       "</style>\n",
       "<table border=\"1\" class=\"dataframe\">\n",
       "  <thead>\n",
       "    <tr style=\"text-align: right;\">\n",
       "      <th></th>\n",
       "      <th>name</th>\n",
       "      <th>cuisines</th>\n",
       "    </tr>\n",
       "  </thead>\n",
       "  <tbody>\n",
       "    <tr>\n",
       "      <th>0</th>\n",
       "      <td>Bikanervala</td>\n",
       "      <td>North Indian, South Indian, Mithai, Street Foo...</td>\n",
       "    </tr>\n",
       "    <tr>\n",
       "      <th>1</th>\n",
       "      <td>Mama Chicken Mama Franky House</td>\n",
       "      <td>North Indian, Mughlai, Rolls, Chinese, Fast Fo...</td>\n",
       "    </tr>\n",
       "    <tr>\n",
       "      <th>2</th>\n",
       "      <td>Bhagat Halwai</td>\n",
       "      <td>Fast Food, Mithai</td>\n",
       "    </tr>\n",
       "    <tr>\n",
       "      <th>3</th>\n",
       "      <td>Bhagat Halwai</td>\n",
       "      <td>Desserts, Bakery, Fast Food, South Indian</td>\n",
       "    </tr>\n",
       "    <tr>\n",
       "      <th>4</th>\n",
       "      <td>The Salt Cafe Kitchen &amp; Bar</td>\n",
       "      <td>North Indian, Continental, Italian</td>\n",
       "    </tr>\n",
       "    <tr>\n",
       "      <th>...</th>\n",
       "      <td>...</td>\n",
       "      <td>...</td>\n",
       "    </tr>\n",
       "    <tr>\n",
       "      <th>55563</th>\n",
       "      <td>Shree Janta Ice Cream</td>\n",
       "      <td>Ice Cream</td>\n",
       "    </tr>\n",
       "    <tr>\n",
       "      <th>55564</th>\n",
       "      <td>The Grand Thakar</td>\n",
       "      <td>Gujarati, North Indian, Chinese</td>\n",
       "    </tr>\n",
       "    <tr>\n",
       "      <th>55565</th>\n",
       "      <td>Geeta lodge</td>\n",
       "      <td>Gujarati, Street Food</td>\n",
       "    </tr>\n",
       "    <tr>\n",
       "      <th>55566</th>\n",
       "      <td>Raju Omlet</td>\n",
       "      <td>Fast Food</td>\n",
       "    </tr>\n",
       "    <tr>\n",
       "      <th>55567</th>\n",
       "      <td>Subway</td>\n",
       "      <td>Fast Food, Sandwich, Salad</td>\n",
       "    </tr>\n",
       "  </tbody>\n",
       "</table>\n",
       "<p>55568 rows × 2 columns</p>\n",
       "</div>"
      ],
      "text/plain": [
       "                                 name  \\\n",
       "0                         Bikanervala   \n",
       "1      Mama Chicken Mama Franky House   \n",
       "2                       Bhagat Halwai   \n",
       "3                       Bhagat Halwai   \n",
       "4         The Salt Cafe Kitchen & Bar   \n",
       "...                               ...   \n",
       "55563           Shree Janta Ice Cream   \n",
       "55564                The Grand Thakar   \n",
       "55565                     Geeta lodge   \n",
       "55566                      Raju Omlet   \n",
       "55567                          Subway   \n",
       "\n",
       "                                                cuisines  \n",
       "0      North Indian, South Indian, Mithai, Street Foo...  \n",
       "1      North Indian, Mughlai, Rolls, Chinese, Fast Fo...  \n",
       "2                                      Fast Food, Mithai  \n",
       "3              Desserts, Bakery, Fast Food, South Indian  \n",
       "4                     North Indian, Continental, Italian  \n",
       "...                                                  ...  \n",
       "55563                                          Ice Cream  \n",
       "55564                    Gujarati, North Indian, Chinese  \n",
       "55565                              Gujarati, Street Food  \n",
       "55566                                          Fast Food  \n",
       "55567                         Fast Food, Sandwich, Salad  \n",
       "\n",
       "[55568 rows x 2 columns]"
      ]
     },
     "execution_count": 181,
     "metadata": {},
     "output_type": "execute_result"
    }
   ],
   "source": [
    "filter_data2 = df1.filter(items = ['name','cuisines'])\n",
    "filter_data2"
   ]
  },
  {
   "cell_type": "code",
   "execution_count": 182,
   "metadata": {},
   "outputs": [
    {
     "data": {
      "text/plain": [
       "city      cuisines                                         \n",
       "Agra      North Indian                                         114\n",
       "          Mithai                                                53\n",
       "          Fast Food                                             39\n",
       "          Bakery                                                35\n",
       "          Street Food                                           35\n",
       "                                                              ... \n",
       "Zirakpur  Desserts, Ice Cream, Fast Food                         1\n",
       "          Desserts, Ice Cream                                    1\n",
       "          Desserts, Beverages                                    1\n",
       "          Continental, Cafe, North Indian, Momos                 1\n",
       "          Street Food, Fast Food, Desserts, Chinese, Bakery      1\n",
       "Name: count, Length: 21295, dtype: int64"
      ]
     },
     "execution_count": 182,
     "metadata": {},
     "output_type": "execute_result"
    }
   ],
   "source": [
    "# Which is the most common cuisine in the dataset?\n",
    "\n",
    "filter_data3 = df1.filter(items = ['city','cuisines'])\n",
    "filter_data3.groupby(by = 'city').value_counts()"
   ]
  },
  {
   "cell_type": "markdown",
   "metadata": {
    "id": "DO4zTAeARksc"
   },
   "source": [
    "**7. Variable 'average_cost_for_two'**"
   ]
  },
  {
   "cell_type": "code",
   "execution_count": 183,
   "metadata": {
    "id": "dfzZxHFVRksd",
    "outputId": "4bb8aff5-f806-4191-bca5-3b150bbe633a",
    "scrolled": true
   },
   "outputs": [
    {
     "data": {
      "text/plain": [
       "count    55568.000000\n",
       "mean       528.205874\n",
       "std        595.028447\n",
       "min          0.000000\n",
       "25%        200.000000\n",
       "50%        350.000000\n",
       "75%        600.000000\n",
       "max      30000.000000\n",
       "Name: average_cost_for_two, dtype: float64"
      ]
     },
     "execution_count": 183,
     "metadata": {},
     "output_type": "execute_result"
    }
   ],
   "source": [
    "df1['average_cost_for_two'].describe()"
   ]
  },
  {
   "cell_type": "code",
   "execution_count": 184,
   "metadata": {},
   "outputs": [
    {
     "data": {
      "text/html": [
       "<div>\n",
       "<style scoped>\n",
       "    .dataframe tbody tr th:only-of-type {\n",
       "        vertical-align: middle;\n",
       "    }\n",
       "\n",
       "    .dataframe tbody tr th {\n",
       "        vertical-align: top;\n",
       "    }\n",
       "\n",
       "    .dataframe thead th {\n",
       "        text-align: right;\n",
       "    }\n",
       "</style>\n",
       "<table border=\"1\" class=\"dataframe\">\n",
       "  <thead>\n",
       "    <tr style=\"text-align: right;\">\n",
       "      <th></th>\n",
       "      <th>res_id</th>\n",
       "      <th>name</th>\n",
       "      <th>establishment</th>\n",
       "      <th>url</th>\n",
       "      <th>address</th>\n",
       "      <th>city</th>\n",
       "      <th>city_id</th>\n",
       "      <th>locality</th>\n",
       "      <th>latitude</th>\n",
       "      <th>longitude</th>\n",
       "      <th>...</th>\n",
       "      <th>price_range</th>\n",
       "      <th>currency</th>\n",
       "      <th>highlights</th>\n",
       "      <th>aggregate_rating</th>\n",
       "      <th>rating_text</th>\n",
       "      <th>votes</th>\n",
       "      <th>photo_count</th>\n",
       "      <th>opentable_support</th>\n",
       "      <th>delivery</th>\n",
       "      <th>takeaway</th>\n",
       "    </tr>\n",
       "  </thead>\n",
       "  <tbody>\n",
       "    <tr>\n",
       "      <th>441</th>\n",
       "      <td>18179880</td>\n",
       "      <td>Cafe Golden Elephant - Ramada Plaza</td>\n",
       "      <td>Casual Dining</td>\n",
       "      <td>https://www.zomato.com/agra/cafe-golden-elepha...</td>\n",
       "      <td>Ramada Plaza, Ring Road Crossing, Fatehabad Ro...</td>\n",
       "      <td>Agra</td>\n",
       "      <td>34</td>\n",
       "      <td>Ramada Plaza, Tajganj</td>\n",
       "      <td>27.137864</td>\n",
       "      <td>78.092125</td>\n",
       "      <td>...</td>\n",
       "      <td>1</td>\n",
       "      <td>Rs.</td>\n",
       "      <td>Credit Card, Takeaway Available, Dinner, Break...</td>\n",
       "      <td>3.0</td>\n",
       "      <td>Average</td>\n",
       "      <td>22</td>\n",
       "      <td>79</td>\n",
       "      <td>0.0</td>\n",
       "      <td>-1</td>\n",
       "      <td>-1</td>\n",
       "    </tr>\n",
       "    <tr>\n",
       "      <th>456</th>\n",
       "      <td>3400377</td>\n",
       "      <td>Fizz - Crystal Sarovar Premiere</td>\n",
       "      <td>Casual Dining</td>\n",
       "      <td>https://www.zomato.com/agra/fizz-crystal-sarov...</td>\n",
       "      <td>1st Floor, Crystal Sarovar Premiere, Fatehabad...</td>\n",
       "      <td>Agra</td>\n",
       "      <td>34</td>\n",
       "      <td>Crystal Sarovar Premier, Tajganj</td>\n",
       "      <td>27.157261</td>\n",
       "      <td>78.050843</td>\n",
       "      <td>...</td>\n",
       "      <td>1</td>\n",
       "      <td>Rs.</td>\n",
       "      <td>Credit Card, Dinner, Serves Alcohol, Lunch, Ai...</td>\n",
       "      <td>3.9</td>\n",
       "      <td>Good</td>\n",
       "      <td>36</td>\n",
       "      <td>14</td>\n",
       "      <td>0.0</td>\n",
       "      <td>-1</td>\n",
       "      <td>-1</td>\n",
       "    </tr>\n",
       "    <tr>\n",
       "      <th>460</th>\n",
       "      <td>19002816</td>\n",
       "      <td>Red Eye - Cocktail House</td>\n",
       "      <td>Lounge</td>\n",
       "      <td>https://www.zomato.com/agra/red-eye-cocktail-h...</td>\n",
       "      <td>Shop 40, Crossroad Mall, Near Sikandra-Bodla R...</td>\n",
       "      <td>Agra</td>\n",
       "      <td>34</td>\n",
       "      <td>Sikandra</td>\n",
       "      <td>27.199176</td>\n",
       "      <td>77.935761</td>\n",
       "      <td>...</td>\n",
       "      <td>1</td>\n",
       "      <td>Rs.</td>\n",
       "      <td>Credit Card, Cash, Debit Card, DJ, Fullbar, Fr...</td>\n",
       "      <td>3.3</td>\n",
       "      <td>Average</td>\n",
       "      <td>8</td>\n",
       "      <td>4</td>\n",
       "      <td>0.0</td>\n",
       "      <td>-1</td>\n",
       "      <td>-1</td>\n",
       "    </tr>\n",
       "    <tr>\n",
       "      <th>562</th>\n",
       "      <td>19038013</td>\n",
       "      <td>ramu ice-cream store</td>\n",
       "      <td>Dessert Parlour</td>\n",
       "      <td>https://www.zomato.com/agra/ramu-ice-cream-sto...</td>\n",
       "      <td>shop-4 Shri ram market sikandra Agra, Sikandra...</td>\n",
       "      <td>Agra</td>\n",
       "      <td>34</td>\n",
       "      <td>Sikandra</td>\n",
       "      <td>27.206914</td>\n",
       "      <td>77.936205</td>\n",
       "      <td>...</td>\n",
       "      <td>1</td>\n",
       "      <td>Rs.</td>\n",
       "      <td>No Seating Available, Takeaway Available</td>\n",
       "      <td>0.0</td>\n",
       "      <td>Not rated</td>\n",
       "      <td>0</td>\n",
       "      <td>0</td>\n",
       "      <td>0.0</td>\n",
       "      <td>1</td>\n",
       "      <td>-1</td>\n",
       "    </tr>\n",
       "    <tr>\n",
       "      <th>623</th>\n",
       "      <td>3400598</td>\n",
       "      <td>Mr. Kukoos</td>\n",
       "      <td>Bakery</td>\n",
       "      <td>https://www.zomato.com/agra/mr-kukoos-rakabgan...</td>\n",
       "      <td>Near Petrol Pump, Baluganj, Rakabganj, Agra</td>\n",
       "      <td>Agra</td>\n",
       "      <td>34</td>\n",
       "      <td>Rakabganj</td>\n",
       "      <td>27.168059</td>\n",
       "      <td>78.015697</td>\n",
       "      <td>...</td>\n",
       "      <td>1</td>\n",
       "      <td>Rs.</td>\n",
       "      <td>Takeaway Available</td>\n",
       "      <td>0.0</td>\n",
       "      <td>Not rated</td>\n",
       "      <td>1</td>\n",
       "      <td>2</td>\n",
       "      <td>0.0</td>\n",
       "      <td>-1</td>\n",
       "      <td>-1</td>\n",
       "    </tr>\n",
       "    <tr>\n",
       "      <th>...</th>\n",
       "      <td>...</td>\n",
       "      <td>...</td>\n",
       "      <td>...</td>\n",
       "      <td>...</td>\n",
       "      <td>...</td>\n",
       "      <td>...</td>\n",
       "      <td>...</td>\n",
       "      <td>...</td>\n",
       "      <td>...</td>\n",
       "      <td>...</td>\n",
       "      <td>...</td>\n",
       "      <td>...</td>\n",
       "      <td>...</td>\n",
       "      <td>...</td>\n",
       "      <td>...</td>\n",
       "      <td>...</td>\n",
       "      <td>...</td>\n",
       "      <td>...</td>\n",
       "      <td>...</td>\n",
       "      <td>...</td>\n",
       "      <td>...</td>\n",
       "    </tr>\n",
       "    <tr>\n",
       "      <th>54256</th>\n",
       "      <td>18848574</td>\n",
       "      <td>Punjab Continental Shana</td>\n",
       "      <td>Casual Dining</td>\n",
       "      <td>https://www.zomato.com/visakhapatnam/punjab-co...</td>\n",
       "      <td>14 /64-65, Pantulgarimeda, Gajuwaka, Vizag(Opp...</td>\n",
       "      <td>Vizag</td>\n",
       "      <td>28</td>\n",
       "      <td>Gajuwaka</td>\n",
       "      <td>0.000000</td>\n",
       "      <td>0.000000</td>\n",
       "      <td>...</td>\n",
       "      <td>1</td>\n",
       "      <td>Rs.</td>\n",
       "      <td>Lunch, Takeaway Available, Debit Card, Dinner,...</td>\n",
       "      <td>2.8</td>\n",
       "      <td>Average</td>\n",
       "      <td>6</td>\n",
       "      <td>0</td>\n",
       "      <td>0.0</td>\n",
       "      <td>-1</td>\n",
       "      <td>-1</td>\n",
       "    </tr>\n",
       "    <tr>\n",
       "      <th>54410</th>\n",
       "      <td>19051157</td>\n",
       "      <td>Desi Dilse</td>\n",
       "      <td>Café</td>\n",
       "      <td>https://www.zomato.com/visakhapatnam/desi-dils...</td>\n",
       "      <td>Sector 9, Drive-In, Double Road, Sector 10, MV...</td>\n",
       "      <td>Vizag</td>\n",
       "      <td>28</td>\n",
       "      <td>MVP Colony</td>\n",
       "      <td>17.739925</td>\n",
       "      <td>83.341359</td>\n",
       "      <td>...</td>\n",
       "      <td>1</td>\n",
       "      <td>Rs.</td>\n",
       "      <td>Outdoor Seating</td>\n",
       "      <td>3.0</td>\n",
       "      <td>Average</td>\n",
       "      <td>4</td>\n",
       "      <td>0</td>\n",
       "      <td>0.0</td>\n",
       "      <td>-1</td>\n",
       "      <td>-1</td>\n",
       "    </tr>\n",
       "    <tr>\n",
       "      <th>54411</th>\n",
       "      <td>19064885</td>\n",
       "      <td>Hunger Nest Bakery</td>\n",
       "      <td>Bakery</td>\n",
       "      <td>https://www.zomato.com/visakhapatnam/hunger-ne...</td>\n",
       "      <td>Mithilapuri Colony, Madhurawada, Visakhapatnam...</td>\n",
       "      <td>Vizag</td>\n",
       "      <td>28</td>\n",
       "      <td>Madhurawada</td>\n",
       "      <td>17.716297</td>\n",
       "      <td>83.311804</td>\n",
       "      <td>...</td>\n",
       "      <td>1</td>\n",
       "      <td>Rs.</td>\n",
       "      <td>Desserts and Bakes</td>\n",
       "      <td>0.0</td>\n",
       "      <td>Not rated</td>\n",
       "      <td>0</td>\n",
       "      <td>1</td>\n",
       "      <td>NaN</td>\n",
       "      <td>-1</td>\n",
       "      <td>-1</td>\n",
       "    </tr>\n",
       "    <tr>\n",
       "      <th>54545</th>\n",
       "      <td>19005671</td>\n",
       "      <td>Tea Time</td>\n",
       "      <td>Beverage Shop</td>\n",
       "      <td>https://www.zomato.com/visakhapatnam/tea-time-...</td>\n",
       "      <td>Auto Nagar main road, Bustop back side, Gajuwa...</td>\n",
       "      <td>Vizag</td>\n",
       "      <td>28</td>\n",
       "      <td>Gajuwaka</td>\n",
       "      <td>17.688236</td>\n",
       "      <td>83.203682</td>\n",
       "      <td>...</td>\n",
       "      <td>1</td>\n",
       "      <td>Rs.</td>\n",
       "      <td>Indoor Seating</td>\n",
       "      <td>0.0</td>\n",
       "      <td>Not rated</td>\n",
       "      <td>1</td>\n",
       "      <td>0</td>\n",
       "      <td>0.0</td>\n",
       "      <td>-1</td>\n",
       "      <td>-1</td>\n",
       "    </tr>\n",
       "    <tr>\n",
       "      <th>54568</th>\n",
       "      <td>19043659</td>\n",
       "      <td>London Shakes</td>\n",
       "      <td>Dessert Parlour</td>\n",
       "      <td>https://www.zomato.com/visakhapatnam/london-sh...</td>\n",
       "      <td>D.no-54-11-35, Near Krishna College, Bhanu nag...</td>\n",
       "      <td>Vizag</td>\n",
       "      <td>28</td>\n",
       "      <td>Maddilapalem</td>\n",
       "      <td>17.716209</td>\n",
       "      <td>83.311778</td>\n",
       "      <td>...</td>\n",
       "      <td>1</td>\n",
       "      <td>Rs.</td>\n",
       "      <td>Takeaway Available, Cash, Credit Card, Debit C...</td>\n",
       "      <td>0.0</td>\n",
       "      <td>Not rated</td>\n",
       "      <td>1</td>\n",
       "      <td>0</td>\n",
       "      <td>0.0</td>\n",
       "      <td>-1</td>\n",
       "      <td>-1</td>\n",
       "    </tr>\n",
       "  </tbody>\n",
       "</table>\n",
       "<p>820 rows × 26 columns</p>\n",
       "</div>"
      ],
      "text/plain": [
       "         res_id                                 name    establishment  \\\n",
       "441    18179880  Cafe Golden Elephant - Ramada Plaza    Casual Dining   \n",
       "456     3400377      Fizz - Crystal Sarovar Premiere    Casual Dining   \n",
       "460    19002816             Red Eye - Cocktail House           Lounge   \n",
       "562    19038013                 ramu ice-cream store  Dessert Parlour   \n",
       "623     3400598                           Mr. Kukoos           Bakery   \n",
       "...         ...                                  ...              ...   \n",
       "54256  18848574             Punjab Continental Shana    Casual Dining   \n",
       "54410  19051157                           Desi Dilse             Café   \n",
       "54411  19064885                   Hunger Nest Bakery           Bakery   \n",
       "54545  19005671                             Tea Time    Beverage Shop   \n",
       "54568  19043659                        London Shakes  Dessert Parlour   \n",
       "\n",
       "                                                     url  \\\n",
       "441    https://www.zomato.com/agra/cafe-golden-elepha...   \n",
       "456    https://www.zomato.com/agra/fizz-crystal-sarov...   \n",
       "460    https://www.zomato.com/agra/red-eye-cocktail-h...   \n",
       "562    https://www.zomato.com/agra/ramu-ice-cream-sto...   \n",
       "623    https://www.zomato.com/agra/mr-kukoos-rakabgan...   \n",
       "...                                                  ...   \n",
       "54256  https://www.zomato.com/visakhapatnam/punjab-co...   \n",
       "54410  https://www.zomato.com/visakhapatnam/desi-dils...   \n",
       "54411  https://www.zomato.com/visakhapatnam/hunger-ne...   \n",
       "54545  https://www.zomato.com/visakhapatnam/tea-time-...   \n",
       "54568  https://www.zomato.com/visakhapatnam/london-sh...   \n",
       "\n",
       "                                                 address   city  city_id  \\\n",
       "441    Ramada Plaza, Ring Road Crossing, Fatehabad Ro...   Agra       34   \n",
       "456    1st Floor, Crystal Sarovar Premiere, Fatehabad...   Agra       34   \n",
       "460    Shop 40, Crossroad Mall, Near Sikandra-Bodla R...   Agra       34   \n",
       "562    shop-4 Shri ram market sikandra Agra, Sikandra...   Agra       34   \n",
       "623          Near Petrol Pump, Baluganj, Rakabganj, Agra   Agra       34   \n",
       "...                                                  ...    ...      ...   \n",
       "54256  14 /64-65, Pantulgarimeda, Gajuwaka, Vizag(Opp...  Vizag       28   \n",
       "54410  Sector 9, Drive-In, Double Road, Sector 10, MV...  Vizag       28   \n",
       "54411  Mithilapuri Colony, Madhurawada, Visakhapatnam...  Vizag       28   \n",
       "54545  Auto Nagar main road, Bustop back side, Gajuwa...  Vizag       28   \n",
       "54568  D.no-54-11-35, Near Krishna College, Bhanu nag...  Vizag       28   \n",
       "\n",
       "                               locality   latitude  longitude  ...  \\\n",
       "441               Ramada Plaza, Tajganj  27.137864  78.092125  ...   \n",
       "456    Crystal Sarovar Premier, Tajganj  27.157261  78.050843  ...   \n",
       "460                            Sikandra  27.199176  77.935761  ...   \n",
       "562                            Sikandra  27.206914  77.936205  ...   \n",
       "623                           Rakabganj  27.168059  78.015697  ...   \n",
       "...                                 ...        ...        ...  ...   \n",
       "54256                          Gajuwaka   0.000000   0.000000  ...   \n",
       "54410                        MVP Colony  17.739925  83.341359  ...   \n",
       "54411                       Madhurawada  17.716297  83.311804  ...   \n",
       "54545                          Gajuwaka  17.688236  83.203682  ...   \n",
       "54568                      Maddilapalem  17.716209  83.311778  ...   \n",
       "\n",
       "      price_range  currency  \\\n",
       "441             1       Rs.   \n",
       "456             1       Rs.   \n",
       "460             1       Rs.   \n",
       "562             1       Rs.   \n",
       "623             1       Rs.   \n",
       "...           ...       ...   \n",
       "54256           1       Rs.   \n",
       "54410           1       Rs.   \n",
       "54411           1       Rs.   \n",
       "54545           1       Rs.   \n",
       "54568           1       Rs.   \n",
       "\n",
       "                                              highlights aggregate_rating  \\\n",
       "441    Credit Card, Takeaway Available, Dinner, Break...              3.0   \n",
       "456    Credit Card, Dinner, Serves Alcohol, Lunch, Ai...              3.9   \n",
       "460    Credit Card, Cash, Debit Card, DJ, Fullbar, Fr...              3.3   \n",
       "562             No Seating Available, Takeaway Available              0.0   \n",
       "623                                   Takeaway Available              0.0   \n",
       "...                                                  ...              ...   \n",
       "54256  Lunch, Takeaway Available, Debit Card, Dinner,...              2.8   \n",
       "54410                                    Outdoor Seating              3.0   \n",
       "54411                                 Desserts and Bakes              0.0   \n",
       "54545                                     Indoor Seating              0.0   \n",
       "54568  Takeaway Available, Cash, Credit Card, Debit C...              0.0   \n",
       "\n",
       "      rating_text  votes  photo_count opentable_support delivery  takeaway  \n",
       "441       Average     22           79               0.0       -1        -1  \n",
       "456          Good     36           14               0.0       -1        -1  \n",
       "460       Average      8            4               0.0       -1        -1  \n",
       "562     Not rated      0            0               0.0        1        -1  \n",
       "623     Not rated      1            2               0.0       -1        -1  \n",
       "...           ...    ...          ...               ...      ...       ...  \n",
       "54256     Average      6            0               0.0       -1        -1  \n",
       "54410     Average      4            0               0.0       -1        -1  \n",
       "54411   Not rated      0            1               NaN       -1        -1  \n",
       "54545   Not rated      1            0               0.0       -1        -1  \n",
       "54568   Not rated      1            0               0.0       -1        -1  \n",
       "\n",
       "[820 rows x 26 columns]"
      ]
     },
     "execution_count": 184,
     "metadata": {},
     "output_type": "execute_result"
    }
   ],
   "source": [
    "# average cost for two people has these outlier values\n",
    "df1[df1['average_cost_for_two'] == 0]"
   ]
  },
  {
   "cell_type": "code",
   "execution_count": 185,
   "metadata": {},
   "outputs": [
    {
     "data": {
      "text/html": [
       "<div>\n",
       "<style scoped>\n",
       "    .dataframe tbody tr th:only-of-type {\n",
       "        vertical-align: middle;\n",
       "    }\n",
       "\n",
       "    .dataframe tbody tr th {\n",
       "        vertical-align: top;\n",
       "    }\n",
       "\n",
       "    .dataframe thead th {\n",
       "        text-align: right;\n",
       "    }\n",
       "</style>\n",
       "<table border=\"1\" class=\"dataframe\">\n",
       "  <thead>\n",
       "    <tr style=\"text-align: right;\">\n",
       "      <th></th>\n",
       "      <th>res_id</th>\n",
       "      <th>name</th>\n",
       "      <th>establishment</th>\n",
       "      <th>url</th>\n",
       "      <th>address</th>\n",
       "      <th>city</th>\n",
       "      <th>city_id</th>\n",
       "      <th>locality</th>\n",
       "      <th>latitude</th>\n",
       "      <th>longitude</th>\n",
       "      <th>...</th>\n",
       "      <th>price_range</th>\n",
       "      <th>currency</th>\n",
       "      <th>highlights</th>\n",
       "      <th>aggregate_rating</th>\n",
       "      <th>rating_text</th>\n",
       "      <th>votes</th>\n",
       "      <th>photo_count</th>\n",
       "      <th>opentable_support</th>\n",
       "      <th>delivery</th>\n",
       "      <th>takeaway</th>\n",
       "    </tr>\n",
       "  </thead>\n",
       "  <tbody>\n",
       "    <tr>\n",
       "      <th>57</th>\n",
       "      <td>3400059</td>\n",
       "      <td>Peshawri - ITC Mughal</td>\n",
       "      <td>Fine Dining</td>\n",
       "      <td>https://www.zomato.com/agra/peshawri-itc-mugha...</td>\n",
       "      <td>ITC Mughal, Fatehabad Road, Tajganj, Agra</td>\n",
       "      <td>Agra</td>\n",
       "      <td>34</td>\n",
       "      <td>ITC Mughal, Tajganj</td>\n",
       "      <td>27.161150</td>\n",
       "      <td>78.043993</td>\n",
       "      <td>...</td>\n",
       "      <td>4</td>\n",
       "      <td>Rs.</td>\n",
       "      <td>Lunch, Cash, Credit Card, Dinner, Debit Card, ...</td>\n",
       "      <td>4.4</td>\n",
       "      <td>Very Good</td>\n",
       "      <td>353</td>\n",
       "      <td>154</td>\n",
       "      <td>0.0</td>\n",
       "      <td>-1</td>\n",
       "      <td>-1</td>\n",
       "    </tr>\n",
       "    <tr>\n",
       "      <th>100</th>\n",
       "      <td>3400106</td>\n",
       "      <td>Bellevue - The Oberoi Amarvilas</td>\n",
       "      <td>Fine Dining</td>\n",
       "      <td>https://www.zomato.com/agra/bellevue-the-obero...</td>\n",
       "      <td>The Oberoi Amarvilas, Taj East Gate Road, Fate...</td>\n",
       "      <td>Agra</td>\n",
       "      <td>34</td>\n",
       "      <td>The Oberoi Amarvilas, Tajganj</td>\n",
       "      <td>27.167916</td>\n",
       "      <td>78.048809</td>\n",
       "      <td>...</td>\n",
       "      <td>4</td>\n",
       "      <td>Rs.</td>\n",
       "      <td>Lunch, Serves Alcohol, Breakfast, Dinner, Cash...</td>\n",
       "      <td>4.4</td>\n",
       "      <td>Very Good</td>\n",
       "      <td>153</td>\n",
       "      <td>105</td>\n",
       "      <td>0.0</td>\n",
       "      <td>-1</td>\n",
       "      <td>-1</td>\n",
       "    </tr>\n",
       "    <tr>\n",
       "      <th>101</th>\n",
       "      <td>3400107</td>\n",
       "      <td>Esphahan - The Oberoi Amarvilas</td>\n",
       "      <td>Fine Dining</td>\n",
       "      <td>https://www.zomato.com/agra/esphahan-the-obero...</td>\n",
       "      <td>The Oberoi Amarvilas, Taj East Gate Road, Fate...</td>\n",
       "      <td>Agra</td>\n",
       "      <td>34</td>\n",
       "      <td>The Oberoi Amarvilas, Tajganj</td>\n",
       "      <td>27.168148</td>\n",
       "      <td>78.048732</td>\n",
       "      <td>...</td>\n",
       "      <td>4</td>\n",
       "      <td>Rs.</td>\n",
       "      <td>Dinner, Cash, Credit Card, Serves Alcohol, Deb...</td>\n",
       "      <td>4.1</td>\n",
       "      <td>Very Good</td>\n",
       "      <td>36</td>\n",
       "      <td>49</td>\n",
       "      <td>0.0</td>\n",
       "      <td>-1</td>\n",
       "      <td>-1</td>\n",
       "    </tr>\n",
       "    <tr>\n",
       "      <th>102</th>\n",
       "      <td>3400560</td>\n",
       "      <td>Skydeck - The Gateway Hotel</td>\n",
       "      <td>Fine Dining</td>\n",
       "      <td>https://www.zomato.com/agra/skydeck-the-gatewa...</td>\n",
       "      <td>The Gateway Hotel, Fatehabad Road, Tajganj, Agra</td>\n",
       "      <td>Agra</td>\n",
       "      <td>34</td>\n",
       "      <td>The Gateway Hotel, Tajganj</td>\n",
       "      <td>27.157372</td>\n",
       "      <td>78.037444</td>\n",
       "      <td>...</td>\n",
       "      <td>4</td>\n",
       "      <td>Rs.</td>\n",
       "      <td>Dinner, Lunch, Credit Card, Breakfast, Serves ...</td>\n",
       "      <td>0.0</td>\n",
       "      <td>Not rated</td>\n",
       "      <td>3</td>\n",
       "      <td>4</td>\n",
       "      <td>0.0</td>\n",
       "      <td>-1</td>\n",
       "      <td>-1</td>\n",
       "    </tr>\n",
       "    <tr>\n",
       "      <th>103</th>\n",
       "      <td>3400082</td>\n",
       "      <td>Tapas - Jaypee Palace Hotel</td>\n",
       "      <td>Bar</td>\n",
       "      <td>https://www.zomato.com/agra/tapas-jaypee-palac...</td>\n",
       "      <td>Jaypee Palace Hotel, Fatehabad Road, Tajganj, ...</td>\n",
       "      <td>Agra</td>\n",
       "      <td>34</td>\n",
       "      <td>Jaypee Palace Hotel, Tajganj</td>\n",
       "      <td>27.154286</td>\n",
       "      <td>78.071350</td>\n",
       "      <td>...</td>\n",
       "      <td>4</td>\n",
       "      <td>Rs.</td>\n",
       "      <td>Lunch, Serves Alcohol, Credit Card, Dinner, Ca...</td>\n",
       "      <td>3.4</td>\n",
       "      <td>Average</td>\n",
       "      <td>13</td>\n",
       "      <td>7</td>\n",
       "      <td>0.0</td>\n",
       "      <td>-1</td>\n",
       "      <td>-1</td>\n",
       "    </tr>\n",
       "    <tr>\n",
       "      <th>...</th>\n",
       "      <td>...</td>\n",
       "      <td>...</td>\n",
       "      <td>...</td>\n",
       "      <td>...</td>\n",
       "      <td>...</td>\n",
       "      <td>...</td>\n",
       "      <td>...</td>\n",
       "      <td>...</td>\n",
       "      <td>...</td>\n",
       "      <td>...</td>\n",
       "      <td>...</td>\n",
       "      <td>...</td>\n",
       "      <td>...</td>\n",
       "      <td>...</td>\n",
       "      <td>...</td>\n",
       "      <td>...</td>\n",
       "      <td>...</td>\n",
       "      <td>...</td>\n",
       "      <td>...</td>\n",
       "      <td>...</td>\n",
       "      <td>...</td>\n",
       "    </tr>\n",
       "    <tr>\n",
       "      <th>51897</th>\n",
       "      <td>18565535</td>\n",
       "      <td>Bhairo</td>\n",
       "      <td>Fine Dining</td>\n",
       "      <td>https://www.zomato.com/udaipur/bhairo-pichola?...</td>\n",
       "      <td>Taj Lake Palace, Pichola, Udaipur</td>\n",
       "      <td>Udaipur</td>\n",
       "      <td>11054</td>\n",
       "      <td>Taj Lake Palace, Pichola</td>\n",
       "      <td>24.575565</td>\n",
       "      <td>73.679718</td>\n",
       "      <td>...</td>\n",
       "      <td>4</td>\n",
       "      <td>Rs.</td>\n",
       "      <td>Cash, Debit Card, Dinner, Credit Card, Fullbar...</td>\n",
       "      <td>2.9</td>\n",
       "      <td>Average</td>\n",
       "      <td>6</td>\n",
       "      <td>3</td>\n",
       "      <td>0.0</td>\n",
       "      <td>-1</td>\n",
       "      <td>-1</td>\n",
       "    </tr>\n",
       "    <tr>\n",
       "      <th>51898</th>\n",
       "      <td>18051896</td>\n",
       "      <td>Neel Kamal</td>\n",
       "      <td>Fine Dining</td>\n",
       "      <td>https://www.zomato.com/udaipur/neel-kamal-pich...</td>\n",
       "      <td>Taj Lake Palace, Pichola, Udaipur</td>\n",
       "      <td>Udaipur</td>\n",
       "      <td>11054</td>\n",
       "      <td>Taj Lake Palace, Pichola</td>\n",
       "      <td>24.575558</td>\n",
       "      <td>73.679720</td>\n",
       "      <td>...</td>\n",
       "      <td>4</td>\n",
       "      <td>Rs.</td>\n",
       "      <td>Debit Card, Cash, Dinner, Credit Card, Indoor ...</td>\n",
       "      <td>3.8</td>\n",
       "      <td>Good</td>\n",
       "      <td>15</td>\n",
       "      <td>7</td>\n",
       "      <td>0.0</td>\n",
       "      <td>-1</td>\n",
       "      <td>-1</td>\n",
       "    </tr>\n",
       "    <tr>\n",
       "      <th>51899</th>\n",
       "      <td>18565352</td>\n",
       "      <td>Jharokha</td>\n",
       "      <td>Casual Dining</td>\n",
       "      <td>https://www.zomato.com/udaipur/jharokha-pichol...</td>\n",
       "      <td>Taj Lake Palace, Pichola, Udaipur</td>\n",
       "      <td>Udaipur</td>\n",
       "      <td>11054</td>\n",
       "      <td>Taj Lake Palace, Pichola</td>\n",
       "      <td>24.575563</td>\n",
       "      <td>73.679717</td>\n",
       "      <td>...</td>\n",
       "      <td>4</td>\n",
       "      <td>Rs.</td>\n",
       "      <td>No Alcohol Available, Dinner, Credit Card, Deb...</td>\n",
       "      <td>4.2</td>\n",
       "      <td>Very Good</td>\n",
       "      <td>35</td>\n",
       "      <td>25</td>\n",
       "      <td>0.0</td>\n",
       "      <td>-1</td>\n",
       "      <td>-1</td>\n",
       "    </tr>\n",
       "    <tr>\n",
       "      <th>51900</th>\n",
       "      <td>18050012</td>\n",
       "      <td>Paantya</td>\n",
       "      <td>Fine Dining</td>\n",
       "      <td>https://www.zomato.com/udaipur/paantya-city-ce...</td>\n",
       "      <td>Hotel Shiv Niwas Palace, City Palace Complex, ...</td>\n",
       "      <td>Udaipur</td>\n",
       "      <td>11054</td>\n",
       "      <td>City Centre</td>\n",
       "      <td>24.578381</td>\n",
       "      <td>73.683746</td>\n",
       "      <td>...</td>\n",
       "      <td>4</td>\n",
       "      <td>Rs.</td>\n",
       "      <td>Lunch, Credit Card, Dinner, Cash, Poolside, Ai...</td>\n",
       "      <td>3.9</td>\n",
       "      <td>Good</td>\n",
       "      <td>25</td>\n",
       "      <td>43</td>\n",
       "      <td>0.0</td>\n",
       "      <td>-1</td>\n",
       "      <td>-1</td>\n",
       "    </tr>\n",
       "    <tr>\n",
       "      <th>51901</th>\n",
       "      <td>18615595</td>\n",
       "      <td>Udaimahal</td>\n",
       "      <td>Fine Dining</td>\n",
       "      <td>https://www.zomato.com/udaipur/udaimahal-picho...</td>\n",
       "      <td>The Oberoi Udaivilas, Haridasji Ki Magri, Mull...</td>\n",
       "      <td>Udaipur</td>\n",
       "      <td>11054</td>\n",
       "      <td>Oberoi Udaivilas - Chandpole</td>\n",
       "      <td>24.579238</td>\n",
       "      <td>73.670860</td>\n",
       "      <td>...</td>\n",
       "      <td>4</td>\n",
       "      <td>Rs.</td>\n",
       "      <td>Cash, Takeaway Available, Credit Card, Debit C...</td>\n",
       "      <td>3.3</td>\n",
       "      <td>Average</td>\n",
       "      <td>7</td>\n",
       "      <td>0</td>\n",
       "      <td>0.0</td>\n",
       "      <td>-1</td>\n",
       "      <td>-1</td>\n",
       "    </tr>\n",
       "  </tbody>\n",
       "</table>\n",
       "<p>158 rows × 26 columns</p>\n",
       "</div>"
      ],
      "text/plain": [
       "         res_id                             name  establishment  \\\n",
       "57      3400059            Peshawri - ITC Mughal    Fine Dining   \n",
       "100     3400106  Bellevue - The Oberoi Amarvilas    Fine Dining   \n",
       "101     3400107  Esphahan - The Oberoi Amarvilas    Fine Dining   \n",
       "102     3400560      Skydeck - The Gateway Hotel    Fine Dining   \n",
       "103     3400082      Tapas - Jaypee Palace Hotel            Bar   \n",
       "...         ...                              ...            ...   \n",
       "51897  18565535                           Bhairo    Fine Dining   \n",
       "51898  18051896                       Neel Kamal    Fine Dining   \n",
       "51899  18565352                         Jharokha  Casual Dining   \n",
       "51900  18050012                          Paantya    Fine Dining   \n",
       "51901  18615595                        Udaimahal    Fine Dining   \n",
       "\n",
       "                                                     url  \\\n",
       "57     https://www.zomato.com/agra/peshawri-itc-mugha...   \n",
       "100    https://www.zomato.com/agra/bellevue-the-obero...   \n",
       "101    https://www.zomato.com/agra/esphahan-the-obero...   \n",
       "102    https://www.zomato.com/agra/skydeck-the-gatewa...   \n",
       "103    https://www.zomato.com/agra/tapas-jaypee-palac...   \n",
       "...                                                  ...   \n",
       "51897  https://www.zomato.com/udaipur/bhairo-pichola?...   \n",
       "51898  https://www.zomato.com/udaipur/neel-kamal-pich...   \n",
       "51899  https://www.zomato.com/udaipur/jharokha-pichol...   \n",
       "51900  https://www.zomato.com/udaipur/paantya-city-ce...   \n",
       "51901  https://www.zomato.com/udaipur/udaimahal-picho...   \n",
       "\n",
       "                                                 address     city  city_id  \\\n",
       "57             ITC Mughal, Fatehabad Road, Tajganj, Agra     Agra       34   \n",
       "100    The Oberoi Amarvilas, Taj East Gate Road, Fate...     Agra       34   \n",
       "101    The Oberoi Amarvilas, Taj East Gate Road, Fate...     Agra       34   \n",
       "102     The Gateway Hotel, Fatehabad Road, Tajganj, Agra     Agra       34   \n",
       "103    Jaypee Palace Hotel, Fatehabad Road, Tajganj, ...     Agra       34   \n",
       "...                                                  ...      ...      ...   \n",
       "51897                  Taj Lake Palace, Pichola, Udaipur  Udaipur    11054   \n",
       "51898                  Taj Lake Palace, Pichola, Udaipur  Udaipur    11054   \n",
       "51899                  Taj Lake Palace, Pichola, Udaipur  Udaipur    11054   \n",
       "51900  Hotel Shiv Niwas Palace, City Palace Complex, ...  Udaipur    11054   \n",
       "51901  The Oberoi Udaivilas, Haridasji Ki Magri, Mull...  Udaipur    11054   \n",
       "\n",
       "                            locality   latitude  longitude  ... price_range  \\\n",
       "57               ITC Mughal, Tajganj  27.161150  78.043993  ...           4   \n",
       "100    The Oberoi Amarvilas, Tajganj  27.167916  78.048809  ...           4   \n",
       "101    The Oberoi Amarvilas, Tajganj  27.168148  78.048732  ...           4   \n",
       "102       The Gateway Hotel, Tajganj  27.157372  78.037444  ...           4   \n",
       "103     Jaypee Palace Hotel, Tajganj  27.154286  78.071350  ...           4   \n",
       "...                              ...        ...        ...  ...         ...   \n",
       "51897       Taj Lake Palace, Pichola  24.575565  73.679718  ...           4   \n",
       "51898       Taj Lake Palace, Pichola  24.575558  73.679720  ...           4   \n",
       "51899       Taj Lake Palace, Pichola  24.575563  73.679717  ...           4   \n",
       "51900                    City Centre  24.578381  73.683746  ...           4   \n",
       "51901   Oberoi Udaivilas - Chandpole  24.579238  73.670860  ...           4   \n",
       "\n",
       "       currency                                         highlights  \\\n",
       "57          Rs.  Lunch, Cash, Credit Card, Dinner, Debit Card, ...   \n",
       "100         Rs.  Lunch, Serves Alcohol, Breakfast, Dinner, Cash...   \n",
       "101         Rs.  Dinner, Cash, Credit Card, Serves Alcohol, Deb...   \n",
       "102         Rs.  Dinner, Lunch, Credit Card, Breakfast, Serves ...   \n",
       "103         Rs.  Lunch, Serves Alcohol, Credit Card, Dinner, Ca...   \n",
       "...         ...                                                ...   \n",
       "51897       Rs.  Cash, Debit Card, Dinner, Credit Card, Fullbar...   \n",
       "51898       Rs.  Debit Card, Cash, Dinner, Credit Card, Indoor ...   \n",
       "51899       Rs.  No Alcohol Available, Dinner, Credit Card, Deb...   \n",
       "51900       Rs.  Lunch, Credit Card, Dinner, Cash, Poolside, Ai...   \n",
       "51901       Rs.  Cash, Takeaway Available, Credit Card, Debit C...   \n",
       "\n",
       "      aggregate_rating rating_text  votes  photo_count opentable_support  \\\n",
       "57                 4.4   Very Good    353          154               0.0   \n",
       "100                4.4   Very Good    153          105               0.0   \n",
       "101                4.1   Very Good     36           49               0.0   \n",
       "102                0.0   Not rated      3            4               0.0   \n",
       "103                3.4     Average     13            7               0.0   \n",
       "...                ...         ...    ...          ...               ...   \n",
       "51897              2.9     Average      6            3               0.0   \n",
       "51898              3.8        Good     15            7               0.0   \n",
       "51899              4.2   Very Good     35           25               0.0   \n",
       "51900              3.9        Good     25           43               0.0   \n",
       "51901              3.3     Average      7            0               0.0   \n",
       "\n",
       "      delivery  takeaway  \n",
       "57          -1        -1  \n",
       "100         -1        -1  \n",
       "101         -1        -1  \n",
       "102         -1        -1  \n",
       "103         -1        -1  \n",
       "...        ...       ...  \n",
       "51897       -1        -1  \n",
       "51898       -1        -1  \n",
       "51899       -1        -1  \n",
       "51900       -1        -1  \n",
       "51901       -1        -1  \n",
       "\n",
       "[158 rows x 26 columns]"
      ]
     },
     "execution_count": 185,
     "metadata": {},
     "output_type": "execute_result"
    }
   ],
   "source": [
    "# average cost for two people has these outlier values\n",
    "df1[df1['average_cost_for_two'] > 4000]"
   ]
  },
  {
   "cell_type": "code",
   "execution_count": 186,
   "metadata": {},
   "outputs": [
    {
     "data": {
      "text/plain": [
       "city\n",
       "New Delhi    48\n",
       "Mumbai       45\n",
       "Jaipur       13\n",
       "Bangalore     8\n",
       "Chennai       8\n",
       "Kolkata       6\n",
       "Udaipur       6\n",
       "Agra          5\n",
       "Gurgaon       5\n",
       "Goa           4\n",
       "Hyderabad     4\n",
       "Jodhpur       3\n",
       "Pune          2\n",
       "Kochi         1\n",
       "Name: res_id, dtype: int64"
      ]
     },
     "execution_count": 186,
     "metadata": {},
     "output_type": "execute_result"
    }
   ],
   "source": [
    "# Which city has most number of restaurants which have average price for 2 more than 4000?\n",
    "\n",
    "f = df1.filter(items = ['res_id', 'city','average_cost_for_two'])\n",
    "res = f[f['average_cost_for_two'] > 4000]\n",
    "res.groupby('city')['res_id'].count().sort_values(ascending = False)"
   ]
  },
  {
   "cell_type": "markdown",
   "metadata": {},
   "source": [
    "**New Delhi** has the most number of restaurants which have average price for 2 more than 4000."
   ]
  },
  {
   "cell_type": "markdown",
   "metadata": {
    "id": "-yoJVd8SRkse"
   },
   "source": [
    "**8. Variable 'price_range'**"
   ]
  },
  {
   "cell_type": "markdown",
   "metadata": {},
   "source": [
    "`price_range` - Average prices automatically characterized into bins"
   ]
  },
  {
   "cell_type": "code",
   "execution_count": 187,
   "metadata": {},
   "outputs": [
    {
     "data": {
      "text/plain": [
       "array([2, 1, 3, 4], dtype=int64)"
      ]
     },
     "execution_count": 187,
     "metadata": {},
     "output_type": "execute_result"
    }
   ],
   "source": [
    "df1['price_range'].unique()"
   ]
  },
  {
   "cell_type": "markdown",
   "metadata": {
    "id": "PlBgYTwlRksf"
   },
   "source": [
    "**9. Variable 'highlights'**"
   ]
  },
  {
   "cell_type": "code",
   "execution_count": 188,
   "metadata": {
    "id": "aOUTV7TZRksf",
    "outputId": "c70b95f8-df0f-4ba0-ff6f-358418ddbc75"
   },
   "outputs": [
    {
     "data": {
      "text/plain": [
       "31227"
      ]
     },
     "execution_count": 188,
     "metadata": {},
     "output_type": "execute_result"
    }
   ],
   "source": [
    "df1['highlights'].nunique()"
   ]
  },
  {
   "cell_type": "markdown",
   "metadata": {},
   "source": [
    "`highlights` - This represent certain facilities provided by restaurants to their customers. Each restaurant has a list of highlights which makes the composition different for each one. We can filter this and find total unique highlights from all restaurants."
   ]
  },
  {
   "cell_type": "code",
   "execution_count": 189,
   "metadata": {},
   "outputs": [
    {
     "name": "stdout",
     "output_type": "stream",
     "text": [
      "Total number of unique highlights =  104\n"
     ]
    }
   ],
   "source": [
    "h = []\n",
    "df1[\"highlights\"].apply(lambda x : h.extend(str(x).split(\", \")))\n",
    "h = pd.Series(h)\n",
    "print(\"Total number of unique highlights = \", h.nunique())"
   ]
  },
  {
   "cell_type": "markdown",
   "metadata": {
    "id": "NeUfurlURksh"
   },
   "source": [
    "**10. Variable 'aggregate_rating'** \n"
   ]
  },
  {
   "cell_type": "code",
   "execution_count": 191,
   "metadata": {
    "id": "_yNRY4QwRksh",
    "outputId": "194863b0-a7a6-47b9-bedd-1963b2f6296e",
    "scrolled": true
   },
   "outputs": [
    {
     "data": {
      "text/plain": [
       "count    55568.000000\n",
       "mean         2.958593\n",
       "std          1.464576\n",
       "min          0.000000\n",
       "25%          2.900000\n",
       "50%          3.500000\n",
       "75%          3.900000\n",
       "max          4.900000\n",
       "Name: aggregate_rating, dtype: float64"
      ]
     },
     "execution_count": 191,
     "metadata": {},
     "output_type": "execute_result"
    }
   ],
   "source": [
    "df1['aggregate_rating'].describe()"
   ]
  },
  {
   "cell_type": "code",
   "execution_count": 192,
   "metadata": {},
   "outputs": [
    {
     "data": {
      "text/plain": [
       "name\n",
       "Craftbar                         4.9\n",
       "Konkani Haus Restaurant & Bar    4.9\n",
       "Communiti                        4.9\n",
       "Nandos                           4.9\n",
       "Conçu                            4.9\n",
       "                                ... \n",
       "Shiv Mandir Ne Same              0.0\n",
       "Mauli Restaurant                 0.0\n",
       "Shiv Paan shop                   0.0\n",
       "Shiv Pan House                   0.0\n",
       "Dream Bakers                     0.0\n",
       "Name: aggregate_rating, Length: 40964, dtype: float64"
      ]
     },
     "execution_count": 192,
     "metadata": {},
     "output_type": "execute_result"
    }
   ],
   "source": [
    "df1.groupby('name')['aggregate_rating'].max().sort_values(ascending = False)"
   ]
  },
  {
   "cell_type": "code",
   "execution_count": 193,
   "metadata": {},
   "outputs": [
    {
     "data": {
      "text/plain": [
       "name\n",
       "Barbeque Nation                    11\n",
       "ABs - Absolute Barbecues           10\n",
       "Coal Barbecues                      3\n",
       "Chilis Grill & Bar                  3\n",
       "Onesta                              2\n",
       "                                   ..\n",
       "ABB - Andreas Bar And Brasserie     1\n",
       "The Yellow Chilli                   1\n",
       "Xero Degrees                        1\n",
       "Walking Street                      1\n",
       "Indish Lounge                       1\n",
       "Name: count, Length: 99, dtype: int64"
      ]
     },
     "execution_count": 193,
     "metadata": {},
     "output_type": "execute_result"
    }
   ],
   "source": [
    "df1[df1['aggregate_rating'] == df1['aggregate_rating'].max()]['name'].value_counts()"
   ]
  },
  {
   "cell_type": "markdown",
   "metadata": {},
   "source": [
    "`Barbecues and Grill food chains` have highest ratings than other type of restaurants"
   ]
  },
  {
   "cell_type": "markdown",
   "metadata": {
    "id": "I9FwyopXRksi"
   },
   "source": [
    "**11. Variable 'rating_text'**\n",
    "\n"
   ]
  },
  {
   "cell_type": "code",
   "execution_count": 194,
   "metadata": {
    "id": "wvcn5QEHRksi",
    "outputId": "63144fef-c9c2-4c9b-ba24-a4184a57b269"
   },
   "outputs": [
    {
     "data": {
      "text/plain": [
       "rating_text\n",
       "Average          16313\n",
       "Good             16019\n",
       "Very Good        10905\n",
       "Not rated        10058\n",
       "Excellent         1609\n",
       "Poor               575\n",
       "Sangat Baik          9\n",
       "Çok iyi              8\n",
       "Bom                  7\n",
       "Muito Bom            5\n",
       "İyi                  5\n",
       "Baik                 5\n",
       "Velmi dobré          5\n",
       "Buono                4\n",
       "Dobré                4\n",
       "Promedio             4\n",
       "Skvělá volba         4\n",
       "Průměr               4\n",
       "Excelente            3\n",
       "Muy Bueno            3\n",
       "Skvělé               3\n",
       "Vynikajúce           2\n",
       "Terbaik              2\n",
       "Veľmi dobré          2\n",
       "Bardzo dobrze        2\n",
       "Muito bom            1\n",
       "Ortalama             1\n",
       "Scarso               1\n",
       "Bueno                1\n",
       "Harika               1\n",
       "Eccellente           1\n",
       "Média                1\n",
       "Dobrze               1\n",
       "Name: count, dtype: int64"
      ]
     },
     "execution_count": 194,
     "metadata": {},
     "output_type": "execute_result"
    }
   ],
   "source": [
    "df1['rating_text'].value_counts()   # ---- as we have direct ratings, this categorized ratings column is not useful"
   ]
  },
  {
   "cell_type": "markdown",
   "metadata": {
    "id": "QQ7oXSmFRksj"
   },
   "source": [
    "**12. Variable 'votes'**"
   ]
  },
  {
   "cell_type": "code",
   "execution_count": 195,
   "metadata": {},
   "outputs": [
    {
     "data": {
      "text/plain": [
       "votes\n",
       "0       4614\n",
       "1       2591\n",
       "2       1906\n",
       "3       1643\n",
       "4       1605\n",
       "        ... \n",
       "2593       1\n",
       "5964       1\n",
       "1795       1\n",
       "9679       1\n",
       "1583       1\n",
       "Name: count, Length: 2642, dtype: int64"
      ]
     },
     "execution_count": 195,
     "metadata": {},
     "output_type": "execute_result"
    }
   ],
   "source": [
    "df1['votes'].value_counts()"
   ]
  },
  {
   "cell_type": "code",
   "execution_count": 196,
   "metadata": {},
   "outputs": [
    {
     "data": {
      "text/plain": [
       "count    55568.000000\n",
       "mean       223.332745\n",
       "std        618.223292\n",
       "min          0.000000\n",
       "25%          6.000000\n",
       "50%         35.000000\n",
       "75%        175.000000\n",
       "max      42539.000000\n",
       "Name: votes, dtype: float64"
      ]
     },
     "execution_count": 196,
     "metadata": {},
     "output_type": "execute_result"
    }
   ],
   "source": [
    "df1['votes'].describe()"
   ]
  },
  {
   "cell_type": "code",
   "execution_count": 197,
   "metadata": {},
   "outputs": [
    {
     "data": {
      "text/plain": [
       "res_id    4614\n",
       "votes     4614\n",
       "dtype: int64"
      ]
     },
     "execution_count": 197,
     "metadata": {},
     "output_type": "execute_result"
    }
   ],
   "source": [
    "# number of restaurants which got 0 votes\n",
    "\n",
    "f1 = df1.filter(items = ['res_id', 'votes'])\n",
    "f1[f1['votes'] == 0].count()"
   ]
  },
  {
   "cell_type": "code",
   "execution_count": 198,
   "metadata": {
    "id": "BSUYYMLNRksj",
    "outputId": "22e34bf4-5f73-4f22-93b6-5fc863def67e"
   },
   "outputs": [
    {
     "data": {
      "text/html": [
       "<div>\n",
       "<style scoped>\n",
       "    .dataframe tbody tr th:only-of-type {\n",
       "        vertical-align: middle;\n",
       "    }\n",
       "\n",
       "    .dataframe tbody tr th {\n",
       "        vertical-align: top;\n",
       "    }\n",
       "\n",
       "    .dataframe thead th {\n",
       "        text-align: right;\n",
       "    }\n",
       "</style>\n",
       "<table border=\"1\" class=\"dataframe\">\n",
       "  <thead>\n",
       "    <tr style=\"text-align: right;\">\n",
       "      <th></th>\n",
       "      <th>name</th>\n",
       "      <th>votes</th>\n",
       "    </tr>\n",
       "  </thead>\n",
       "  <tbody>\n",
       "    <tr>\n",
       "      <th>21190</th>\n",
       "      <td>Bawarchi</td>\n",
       "      <td>42539</td>\n",
       "    </tr>\n",
       "    <tr>\n",
       "      <th>5053</th>\n",
       "      <td>Byg Brewski Brewing Company</td>\n",
       "      <td>18967</td>\n",
       "    </tr>\n",
       "    <tr>\n",
       "      <th>5065</th>\n",
       "      <td>Toit</td>\n",
       "      <td>15705</td>\n",
       "    </tr>\n",
       "    <tr>\n",
       "      <th>5058</th>\n",
       "      <td>Truffles</td>\n",
       "      <td>15582</td>\n",
       "    </tr>\n",
       "    <tr>\n",
       "      <th>14244</th>\n",
       "      <td>Hauz Khas Social</td>\n",
       "      <td>14751</td>\n",
       "    </tr>\n",
       "    <tr>\n",
       "      <th>...</th>\n",
       "      <td>...</td>\n",
       "      <td>...</td>\n",
       "    </tr>\n",
       "    <tr>\n",
       "      <th>52044</th>\n",
       "      <td>Tikka Wala</td>\n",
       "      <td>0</td>\n",
       "    </tr>\n",
       "    <tr>\n",
       "      <th>52043</th>\n",
       "      <td>Guddu Bhai Kachori Wala</td>\n",
       "      <td>0</td>\n",
       "    </tr>\n",
       "    <tr>\n",
       "      <th>52042</th>\n",
       "      <td>Laxmi Chat Center</td>\n",
       "      <td>0</td>\n",
       "    </tr>\n",
       "    <tr>\n",
       "      <th>52041</th>\n",
       "      <td>Vinyak Pav Bhaji</td>\n",
       "      <td>0</td>\n",
       "    </tr>\n",
       "    <tr>\n",
       "      <th>41955</th>\n",
       "      <td>Ciyon Fast Food</td>\n",
       "      <td>0</td>\n",
       "    </tr>\n",
       "  </tbody>\n",
       "</table>\n",
       "<p>55568 rows × 2 columns</p>\n",
       "</div>"
      ],
      "text/plain": [
       "                              name  votes\n",
       "21190                     Bawarchi  42539\n",
       "5053   Byg Brewski Brewing Company  18967\n",
       "5065                          Toit  15705\n",
       "5058                      Truffles  15582\n",
       "14244             Hauz Khas Social  14751\n",
       "...                            ...    ...\n",
       "52044                   Tikka Wala      0\n",
       "52043      Guddu Bhai Kachori Wala      0\n",
       "52042            Laxmi Chat Center      0\n",
       "52041             Vinyak Pav Bhaji      0\n",
       "41955              Ciyon Fast Food      0\n",
       "\n",
       "[55568 rows x 2 columns]"
      ]
     },
     "execution_count": 198,
     "metadata": {},
     "output_type": "execute_result"
    }
   ],
   "source": [
    "# number of votes by restaurants\n",
    "df1.filter(items = ['name','votes']).sort_values(by = 'votes',ascending  = False)"
   ]
  },
  {
   "cell_type": "code",
   "execution_count": 199,
   "metadata": {},
   "outputs": [
    {
     "data": {
      "text/plain": [
       "name\n",
       "Hauz Khas Social               14751.0\n",
       "Byg Brewski Brewing Company    13114.5\n",
       "Peter Cat                      11856.0\n",
       "Cafe Bahar                     10953.0\n",
       "Big Pitcher                    10652.0\n",
       "                                ...   \n",
       "Rex Bakery                         0.0\n",
       "The 3rd Milestone                  0.0\n",
       "Arabian Majilis                    0.0\n",
       "Tic Tac kababs                     0.0\n",
       "Snowberry Cafe                     0.0\n",
       "Name: votes, Length: 40964, dtype: float64"
      ]
     },
     "execution_count": 199,
     "metadata": {},
     "output_type": "execute_result"
    }
   ],
   "source": [
    "# average number of votes by restaurants\n",
    "df1.groupby('name')['votes'].mean().sort_values(ascending  = False)"
   ]
  },
  {
   "cell_type": "markdown",
   "metadata": {
    "id": "vHP9OgAkRksk"
   },
   "source": [
    "**13. Variable 'photo_count'**"
   ]
  },
  {
   "cell_type": "code",
   "execution_count": 200,
   "metadata": {},
   "outputs": [
    {
     "data": {
      "text/plain": [
       "photo_count\n",
       "0       10519\n",
       "1        4208\n",
       "2        2949\n",
       "3        2278\n",
       "4        1817\n",
       "        ...  \n",
       "1274        1\n",
       "2100        1\n",
       "2756        1\n",
       "3049        1\n",
       "828         1\n",
       "Name: count, Length: 2457, dtype: int64"
      ]
     },
     "execution_count": 200,
     "metadata": {},
     "output_type": "execute_result"
    }
   ],
   "source": [
    "df1['photo_count'].value_counts()"
   ]
  },
  {
   "cell_type": "markdown",
   "metadata": {
    "id": "t70rE3moRksk"
   },
   "source": [
    "**14. Variable 'delivery'**"
   ]
  },
  {
   "cell_type": "code",
   "execution_count": 201,
   "metadata": {
    "id": "Y7xjeTHXRksl",
    "outputId": "9c0c62bd-13e0-4720-e1b3-c241ffb8a102"
   },
   "outputs": [
    {
     "data": {
      "text/plain": [
       "delivery\n",
       "-1    37346\n",
       " 1    17907\n",
       " 0      315\n",
       "Name: count, dtype: int64"
      ]
     },
     "execution_count": 201,
     "metadata": {},
     "output_type": "execute_result"
    }
   ],
   "source": [
    "df1['delivery'].value_counts()"
   ]
  },
  {
   "cell_type": "code",
   "execution_count": 202,
   "metadata": {},
   "outputs": [
    {
     "data": {
      "text/html": [
       "<div>\n",
       "<style scoped>\n",
       "    .dataframe tbody tr th:only-of-type {\n",
       "        vertical-align: middle;\n",
       "    }\n",
       "\n",
       "    .dataframe tbody tr th {\n",
       "        vertical-align: top;\n",
       "    }\n",
       "\n",
       "    .dataframe thead th {\n",
       "        text-align: right;\n",
       "    }\n",
       "</style>\n",
       "<table border=\"1\" class=\"dataframe\">\n",
       "  <thead>\n",
       "    <tr style=\"text-align: right;\">\n",
       "      <th></th>\n",
       "      <th>average_cost_for_two</th>\n",
       "      <th>aggregate_rating</th>\n",
       "      <th>votes</th>\n",
       "      <th>photo_count</th>\n",
       "    </tr>\n",
       "  </thead>\n",
       "  <tbody>\n",
       "    <tr>\n",
       "      <th>mean</th>\n",
       "      <td>528.205874</td>\n",
       "      <td>2.958593</td>\n",
       "      <td>223.332745</td>\n",
       "      <td>160.97477</td>\n",
       "    </tr>\n",
       "    <tr>\n",
       "      <th>min</th>\n",
       "      <td>0.000000</td>\n",
       "      <td>0.000000</td>\n",
       "      <td>0.000000</td>\n",
       "      <td>0.00000</td>\n",
       "    </tr>\n",
       "    <tr>\n",
       "      <th>max</th>\n",
       "      <td>30000.000000</td>\n",
       "      <td>4.900000</td>\n",
       "      <td>42539.000000</td>\n",
       "      <td>17702.00000</td>\n",
       "    </tr>\n",
       "  </tbody>\n",
       "</table>\n",
       "</div>"
      ],
      "text/plain": [
       "      average_cost_for_two  aggregate_rating         votes  photo_count\n",
       "mean            528.205874          2.958593    223.332745    160.97477\n",
       "min               0.000000          0.000000      0.000000      0.00000\n",
       "max           30000.000000          4.900000  42539.000000  17702.00000"
      ]
     },
     "execution_count": 202,
     "metadata": {},
     "output_type": "execute_result"
    }
   ],
   "source": [
    "# summary stats for 4 columns\n",
    "\n",
    "df1[['average_cost_for_two','aggregate_rating','votes','photo_count']].describe().loc[['mean','min','max']]"
   ]
  },
  {
   "cell_type": "markdown",
   "metadata": {},
   "source": [
    "Rating ranges between 0 and 5 while 42539 are the maximum votes given to a restaurant."
   ]
  },
  {
   "cell_type": "markdown",
   "metadata": {
    "id": "8TRu4KG2Rkss"
   },
   "source": [
    "<a id = 'correlation'> </a>\n",
    "## 7. Study correlation"
   ]
  },
  {
   "cell_type": "code",
   "execution_count": 203,
   "metadata": {},
   "outputs": [],
   "source": [
    "df1_num = df1.select_dtypes(['float64', 'int64'])\n",
    "\n",
    "# omitting not useful features in correlation analysis\n",
    "df1_num = df1_num.drop(['latitude', 'longitude','res_id','city_id','country_id','opentable_support','takeaway','delivery'], axis = 1)"
   ]
  },
  {
   "cell_type": "code",
   "execution_count": 204,
   "metadata": {},
   "outputs": [
    {
     "data": {
      "text/html": [
       "<div>\n",
       "<style scoped>\n",
       "    .dataframe tbody tr th:only-of-type {\n",
       "        vertical-align: middle;\n",
       "    }\n",
       "\n",
       "    .dataframe tbody tr th {\n",
       "        vertical-align: top;\n",
       "    }\n",
       "\n",
       "    .dataframe thead th {\n",
       "        text-align: right;\n",
       "    }\n",
       "</style>\n",
       "<table border=\"1\" class=\"dataframe\">\n",
       "  <thead>\n",
       "    <tr style=\"text-align: right;\">\n",
       "      <th></th>\n",
       "      <th>average_cost_for_two</th>\n",
       "      <th>price_range</th>\n",
       "      <th>aggregate_rating</th>\n",
       "      <th>votes</th>\n",
       "      <th>photo_count</th>\n",
       "    </tr>\n",
       "  </thead>\n",
       "  <tbody>\n",
       "    <tr>\n",
       "      <th>average_cost_for_two</th>\n",
       "      <td>1.000000</td>\n",
       "      <td>0.791333</td>\n",
       "      <td>0.250045</td>\n",
       "      <td>0.263601</td>\n",
       "      <td>0.310848</td>\n",
       "    </tr>\n",
       "    <tr>\n",
       "      <th>price_range</th>\n",
       "      <td>0.791333</td>\n",
       "      <td>1.000000</td>\n",
       "      <td>0.252312</td>\n",
       "      <td>0.245643</td>\n",
       "      <td>0.283196</td>\n",
       "    </tr>\n",
       "    <tr>\n",
       "      <th>aggregate_rating</th>\n",
       "      <td>0.250045</td>\n",
       "      <td>0.252312</td>\n",
       "      <td>1.000000</td>\n",
       "      <td>0.283375</td>\n",
       "      <td>0.231655</td>\n",
       "    </tr>\n",
       "    <tr>\n",
       "      <th>votes</th>\n",
       "      <td>0.263601</td>\n",
       "      <td>0.245643</td>\n",
       "      <td>0.283375</td>\n",
       "      <td>1.000000</td>\n",
       "      <td>0.695668</td>\n",
       "    </tr>\n",
       "    <tr>\n",
       "      <th>photo_count</th>\n",
       "      <td>0.310848</td>\n",
       "      <td>0.283196</td>\n",
       "      <td>0.231655</td>\n",
       "      <td>0.695668</td>\n",
       "      <td>1.000000</td>\n",
       "    </tr>\n",
       "  </tbody>\n",
       "</table>\n",
       "</div>"
      ],
      "text/plain": [
       "                      average_cost_for_two  price_range  aggregate_rating  \\\n",
       "average_cost_for_two              1.000000     0.791333          0.250045   \n",
       "price_range                       0.791333     1.000000          0.252312   \n",
       "aggregate_rating                  0.250045     0.252312          1.000000   \n",
       "votes                             0.263601     0.245643          0.283375   \n",
       "photo_count                       0.310848     0.283196          0.231655   \n",
       "\n",
       "                         votes  photo_count  \n",
       "average_cost_for_two  0.263601     0.310848  \n",
       "price_range           0.245643     0.283196  \n",
       "aggregate_rating      0.283375     0.231655  \n",
       "votes                 1.000000     0.695668  \n",
       "photo_count           0.695668     1.000000  "
      ]
     },
     "execution_count": 204,
     "metadata": {},
     "output_type": "execute_result"
    }
   ],
   "source": [
    "df1_num.corr()"
   ]
  },
  {
   "cell_type": "code",
   "execution_count": 205,
   "metadata": {},
   "outputs": [
    {
     "data": {
      "image/png": "[encoded data removed]",
      "text/plain": [
       "<Figure size 1000x800 with 2 Axes>"
      ]
     },
     "metadata": {},
     "output_type": "display_data"
    }
   ],
   "source": [
    "plt.figure(figsize = (10,8))\n",
    "sns.heatmap(data = df1_num.corr(), annot = True)\n",
    "plt.show()"
   ]
  },
  {
   "cell_type": "markdown",
   "metadata": {
    "id": "84UCg7jHRksu"
   },
   "source": [
    "<a id='outliers'> </a>\n",
    "## 8. Detect outliers"
   ]
  },
  {
   "cell_type": "markdown",
   "metadata": {},
   "source": [
    "**1. Plot the boxplot for numeric data**"
   ]
  },
  {
   "cell_type": "code",
   "execution_count": 206,
   "metadata": {},
   "outputs": [
    {
     "data": {
      "image/png": "[encoded data removed]",
      "text/plain": [
       "<Figure size 1500x1200 with 4 Axes>"
      ]
     },
     "metadata": {},
     "output_type": "display_data"
    }
   ],
   "source": [
    "variables = ['average_cost_for_two','price_range','votes', 'aggregate_rating']\n",
    "fig, ax = plt.subplots(2,2, figsize = (15,12))\n",
    "\n",
    "for var, subplot in zip(df1_num[variables], ax.flatten()):\n",
    "    z = sns.boxplot(y = df1_num[var], orient = 'v', ax = subplot)\n",
    "    z.set_xlabel(var, fontsize = 15)"
   ]
  },
  {
   "cell_type": "code",
   "execution_count": 207,
   "metadata": {},
   "outputs": [
    {
     "data": {
      "image/png": "[encoded data removed]",
      "text/plain": [
       "<Figure size 640x480 with 1 Axes>"
      ]
     },
     "metadata": {},
     "output_type": "display_data"
    }
   ],
   "source": [
    "sns.boxplot(x = df1_num['photo_count'], orient = 'v')\n",
    "plt.xlabel(xlabel = 'photo_count')\n",
    "plt.show()"
   ]
  },
  {
   "cell_type": "markdown",
   "metadata": {
    "id": "8KsQfmNaRksv"
   },
   "source": [
    "**2. Note the variables for which outliers are present**"
   ]
  },
  {
   "cell_type": "code",
   "execution_count": 208,
   "metadata": {
    "id": "7lu5nOK-Rksw"
   },
   "outputs": [
    {
     "data": {
      "image/png": "[encoded data removed]",
      "text/plain": [
       "<Figure size 1000x700 with 6 Axes>"
      ]
     },
     "metadata": {},
     "output_type": "display_data"
    }
   ],
   "source": [
    "df1_num.hist(bins = 10, figsize=(10,7))\n",
    "\n",
    "plt.tight_layout()\n",
    "plt.show()"
   ]
  },
  {
   "cell_type": "markdown",
   "metadata": {},
   "source": [
    "Variable **aggregate rating** has negative outliers as it has some values below the minimum data point (bottom end of whisker)."
   ]
  },
  {
   "cell_type": "markdown",
   "metadata": {
    "id": "aI1_PyQyRksz"
   },
   "source": [
    "<a id='more'> </a>\n",
    "## 9. Bivariate and Multi Variate Analysis"
   ]
  },
  {
   "cell_type": "markdown",
   "metadata": {},
   "source": [
    "**1. Relation between Average Cost for two and Rating** "
   ]
  },
  {
   "cell_type": "code",
   "execution_count": 210,
   "metadata": {},
   "outputs": [
    {
     "data": {
      "image/png": "[encoded data removed]",
      "text/plain": [
       "<Figure size 800x500 with 1 Axes>"
      ]
     },
     "metadata": {},
     "output_type": "display_data"
    }
   ],
   "source": [
    "plt.figure(figsize = (8,5))\n",
    "sns.scatterplot(data = df1, x = 'average_cost_for_two', y='aggregate_rating')\n",
    "plt.title('Relationship between Average Cost for two and Ratings')\n",
    "plt.show()"
   ]
  },
  {
   "cell_type": "markdown",
   "metadata": {},
   "source": [
    "Let's take a smaller sample to draw a clearer scatter plot."
   ]
  },
  {
   "cell_type": "code",
   "execution_count": 211,
   "metadata": {},
   "outputs": [
    {
     "data": {
      "image/png": "[encoded data removed]",
      "text/plain": [
       "<Figure size 800x500 with 1 Axes>"
      ]
     },
     "metadata": {},
     "output_type": "display_data"
    }
   ],
   "source": [
    "plt.figure(figsize = (8,5))\n",
    "sns.scatterplot(data = df1.sample(1000), x = 'average_cost_for_two', y='aggregate_rating')\n",
    "plt.xlim([0,5000])\n",
    "plt.title('Average Cost for two VS Ratings (for sample)')\n",
    "plt.show()"
   ]
  },
  {
   "cell_type": "markdown",
   "metadata": {},
   "source": [
    "There is definitely a direct relationship between these two features however it shows a weak correlation.\n",
    "We can say that as the average cost for two increases, the restaurants will be highly rated."
   ]
  },
  {
   "cell_type": "markdown",
   "metadata": {},
   "source": [
    "**2. Relation between Price Range and Rating** \n"
   ]
  },
  {
   "cell_type": "code",
   "execution_count": 212,
   "metadata": {},
   "outputs": [
    {
     "data": {
      "text/plain": [
       "0.25"
      ]
     },
     "execution_count": 212,
     "metadata": {},
     "output_type": "execute_result"
    }
   ],
   "source": [
    "# finding correlation between these two\n",
    "\n",
    "np.round(df1[['price_range','aggregate_rating']].corr()['price_range'][1],2)"
   ]
  },
  {
   "cell_type": "code",
   "execution_count": 213,
   "metadata": {},
   "outputs": [
    {
     "data": {
      "image/png": "[encoded data removed]",
      "text/plain": [
       "<Figure size 640x480 with 1 Axes>"
      ]
     },
     "metadata": {},
     "output_type": "display_data"
    }
   ],
   "source": [
    "sns.boxplot(data = df1, x= 'price_range', y='aggregate_rating')\n",
    "plt.title('Relationship between Price Range and Ratings')\n",
    "plt.show()"
   ]
  },
  {
   "cell_type": "markdown",
   "metadata": {},
   "source": [
    "After taking a closer look at these 3 variables \"average_cost_for_two\",\"aggregate_rating\" and \"price_rating\". We can conclude that the higher the price a restaurant charges, more services they provide and hence more chances of getting good ratings from their customers."
   ]
  },
  {
   "cell_type": "markdown",
   "metadata": {},
   "source": [
    "**3. Analyzing features Average rating, votes and photos (by establishment)**"
   ]
  },
  {
   "cell_type": "code",
   "execution_count": 214,
   "metadata": {},
   "outputs": [
    {
     "data": {
      "text/plain": [
       "establishment\n",
       "Microbrewery     1992.300000\n",
       "Pub               880.274510\n",
       "Bar               500.613295\n",
       "Lounge            494.509756\n",
       "Casual Dining     396.341320\n",
       "Cocktail Bar      309.625000\n",
       "Club              300.544643\n",
       "Fine Dining       293.126384\n",
       "Café              276.558574\n",
       "Irani Cafe        178.714286\n",
       "Name: votes, dtype: float64"
      ]
     },
     "execution_count": 214,
     "metadata": {},
     "output_type": "execute_result"
    }
   ],
   "source": [
    "vote_by_est = df1.groupby('establishment')['votes'].mean().sort_values(ascending = False)[:10]\n",
    "vote_by_est"
   ]
  },
  {
   "cell_type": "code",
   "execution_count": 215,
   "metadata": {},
   "outputs": [
    {
     "data": {
      "text/plain": [
       "establishment\n",
       "Microbrewery     4.268182\n",
       "Pub              3.758263\n",
       "Cocktail Bar     3.531250\n",
       "Fine Dining      3.436547\n",
       "Lounge           3.436463\n",
       "Club             3.378571\n",
       "Irani Cafe       3.321429\n",
       "Casual Dining    3.238680\n",
       "Café             3.212345\n",
       "Butcher Shop     3.110390\n",
       "Name: aggregate_rating, dtype: float64"
      ]
     },
     "execution_count": 215,
     "metadata": {},
     "output_type": "execute_result"
    }
   ],
   "source": [
    "rate_by_est = df1.groupby('establishment')['aggregate_rating'].mean().sort_values(ascending = False)[:10]\n",
    "rate_by_est"
   ]
  },
  {
   "cell_type": "code",
   "execution_count": 216,
   "metadata": {},
   "outputs": [
    {
     "data": {
      "text/plain": [
       "establishment\n",
       "Microbrewery     2042.054545\n",
       "Pub               652.955182\n",
       "Cocktail Bar      555.625000\n",
       "Lounge            514.687805\n",
       "Bar               513.321658\n",
       "Fine Dining       364.817590\n",
       "Café              331.935969\n",
       "Casual Dining     291.550448\n",
       "Irani Cafe        173.000000\n",
       "Club              107.089286\n",
       "Name: photo_count, dtype: float64"
      ]
     },
     "execution_count": 216,
     "metadata": {},
     "output_type": "execute_result"
    }
   ],
   "source": [
    "photo_by_est = df1.groupby('establishment')['photo_count'].mean().sort_values(ascending = False)[:10]\n",
    "photo_by_est"
   ]
  },
  {
   "cell_type": "markdown",
   "metadata": {},
   "source": [
    "It can be concluded that establishments with alcohol availability have highest average ratings, votes and photo uploads."
   ]
  },
  {
   "cell_type": "markdown",
   "metadata": {},
   "source": [
    "**4. Number of restaurants by cuisines (Top 5)**"
   ]
  },
  {
   "cell_type": "code",
   "execution_count": 217,
   "metadata": {},
   "outputs": [
    {
     "data": {
      "text/plain": [
       "North Indian    19226\n",
       "Chinese         12724\n",
       "Fast Food       11988\n",
       "Desserts         7064\n",
       "Beverages        6754\n",
       "Name: count, dtype: int64"
      ]
     },
     "execution_count": 217,
     "metadata": {},
     "output_type": "execute_result"
    }
   ],
   "source": [
    "uniq_top5_cuis = cuisines.value_counts()[:5]\n",
    "uniq_top5_cuis"
   ]
  },
  {
   "cell_type": "code",
   "execution_count": 218,
   "metadata": {},
   "outputs": [
    {
     "data": {
      "text/plain": [
       "{'North Indian': 19226,\n",
       " 'Chinese': 12724,\n",
       " 'Fast Food': 11988,\n",
       " 'Desserts': 7064,\n",
       " 'Beverages': 6754}"
      ]
     },
     "execution_count": 218,
     "metadata": {},
     "output_type": "execute_result"
    }
   ],
   "source": [
    "uniq_top5_cuis = dict(uniq_top5_cuis)\n",
    "uniq_top5_cuis"
   ]
  },
  {
   "cell_type": "code",
   "execution_count": 219,
   "metadata": {},
   "outputs": [
    {
     "data": {
      "image/png": "[encoded data removed]",
      "text/plain": [
       "<Figure size 1000x600 with 1 Axes>"
      ]
     },
     "metadata": {},
     "output_type": "display_data"
    }
   ],
   "source": [
    "top5_cuis = list(uniq_top5_cuis.keys())\n",
    "counts = list(uniq_top5_cuis.values())\n",
    "\n",
    "plt.figure(figsize = (10,6))\n",
    "plots = sns.barplot(x = top5_cuis, y = counts)\n",
    "\n",
    "\n",
    "# Iterating over the bars one-by-one\n",
    "for bar in plots.patches:\n",
    "  \n",
    "  # Using Matplotlib's annotate function and\n",
    "  # passing the coordinates where the annotation shall be done\n",
    "  # x-coordinate: bar.get_x() + bar.get_width() / 2\n",
    "  # y-coordinate: bar.get_height()\n",
    "  # free space to be left to make graph pleasing: (0, 8)\n",
    "  # ha and va stand for the horizontal and vertical alignment\n",
    "    plots.annotate(format(bar.get_height(),'.1f'), \n",
    "                   (bar.get_x() + bar.get_width() / 2, \n",
    "                    bar.get_height()), ha='center', va='center',\n",
    "                   size=10, xytext=(0, 8),\n",
    "                   textcoords='offset points')\n",
    "\n",
    "plt.title(\"Number of restaurants (by cuisines)\")\n",
    "plt.show()"
   ]
  },
  {
   "cell_type": "markdown",
   "metadata": {},
   "source": [
    "**5. Number of restaurants by highlights (Top 5)**"
   ]
  },
  {
   "cell_type": "code",
   "execution_count": 220,
   "metadata": {},
   "outputs": [
    {
     "data": {
      "text/plain": [
       "Cash                  52825\n",
       "Takeaway Available    46773\n",
       "Indoor Seating        40609\n",
       "Dinner                37643\n",
       "Lunch                 36043\n",
       "Name: count, dtype: int64"
      ]
     },
     "execution_count": 220,
     "metadata": {},
     "output_type": "execute_result"
    }
   ],
   "source": [
    "top5_high = h.value_counts()[:5]\n",
    "top5_high"
   ]
  },
  {
   "cell_type": "code",
   "execution_count": 221,
   "metadata": {},
   "outputs": [
    {
     "data": {
      "text/plain": [
       "{'Cash': 52825,\n",
       " 'Takeaway Available': 46773,\n",
       " 'Indoor Seating': 40609,\n",
       " 'Dinner': 37643,\n",
       " 'Lunch': 36043}"
      ]
     },
     "execution_count": 221,
     "metadata": {},
     "output_type": "execute_result"
    }
   ],
   "source": [
    "top5_high = dict(top5_high)\n",
    "top5_high"
   ]
  },
  {
   "cell_type": "code",
   "execution_count": 222,
   "metadata": {},
   "outputs": [
    {
     "data": {
      "image/png": "[encoded data removed]",
      "text/plain": [
       "<Figure size 1000x600 with 1 Axes>"
      ]
     },
     "metadata": {},
     "output_type": "display_data"
    }
   ],
   "source": [
    "uniq_top5_high = list(top5_high.keys())\n",
    "counts = list(top5_high.values())\n",
    "\n",
    "plt.figure(figsize = (10,6))\n",
    "plots = sns.barplot(x = uniq_top5_high, y = counts)\n",
    "\n",
    "\n",
    "# Iterating over the bars one-by-one\n",
    "for bar in plots.patches:\n",
    "  \n",
    "  # Using Matplotlib's annotate function and\n",
    "  # passing the coordinates where the annotation shall be done\n",
    "  # x-coordinate: bar.get_x() + bar.get_width() / 2\n",
    "  # y-coordinate: bar.get_height()\n",
    "  # free space to be left to make graph pleasing: (0, 8)\n",
    "  # ha and va stand for the horizontal and vertical alignment\n",
    "    plots.annotate(format(bar.get_height(),'.1f'), \n",
    "                   (bar.get_x() + bar.get_width() / 2, \n",
    "                    bar.get_height()), ha='center', va='center',\n",
    "                   size=10, xytext=(0, 8),\n",
    "                   textcoords='offset points')\n",
    "\n",
    "plt.title(\"Number of restaurants (by highlights)\")\n",
    "plt.show()"
   ]
  },
  {
   "cell_type": "markdown",
   "metadata": {},
   "source": [
    "**6. Analyzing features Count of restaurants, Average rating, photo count, votes (by city)**"
   ]
  },
  {
   "cell_type": "code",
   "execution_count": 223,
   "metadata": {},
   "outputs": [
    {
     "data": {
      "text/plain": [
       "{'Bangalore': 2247,\n",
       " 'Mumbai': 2022,\n",
       " 'Pune': 1843,\n",
       " 'Chennai': 1827,\n",
       " 'New Delhi': 1704,\n",
       " 'Jaipur': 1395,\n",
       " 'Kolkata': 1361,\n",
       " 'Ahmedabad': 1247,\n",
       " 'Goa': 1150,\n",
       " 'Lucknow': 1135}"
      ]
     },
     "execution_count": 223,
     "metadata": {},
     "output_type": "execute_result"
    }
   ],
   "source": [
    "# Number of restaurants by city\n",
    "\n",
    "rest_by_city = df1.groupby('city')['res_id'].count().sort_values(ascending = False)[:10]\n",
    "rest_by_city = dict(rest_by_city)\n",
    "rest_by_city"
   ]
  },
  {
   "cell_type": "code",
   "execution_count": 225,
   "metadata": {},
   "outputs": [
    {
     "data": {
      "image/png": "[encoded data removed]",
      "text/plain": [
       "<Figure size 1000x600 with 1 Axes>"
      ]
     },
     "metadata": {},
     "output_type": "display_data"
    }
   ],
   "source": [
    "names = list(rest_by_city.keys())\n",
    "counts = list(rest_by_city.values())\n",
    "\n",
    "plt.figure(figsize = (10,6))\n",
    "plots = sns.barplot(x = names, y = counts)\n",
    "\n",
    "\n",
    "# Iterating over the bars one-by-one\n",
    "for bar in plots.patches:\n",
    "  \n",
    "  # Using Matplotlib's annotate function and\n",
    "  # passing the coordinates where the annotation shall be done\n",
    "  # x-coordinate: bar.get_x() + bar.get_width() / 2\n",
    "  # y-coordinate: bar.get_height()\n",
    "  # free space to be left to make graph pleasing: (0, 8)\n",
    "  # ha and va stand for the horizontal and vertical alignment\n",
    "    plots.annotate(format(bar.get_height(),'.1f'), \n",
    "                   (bar.get_x() + bar.get_width() / 2, \n",
    "                    bar.get_height()), ha='center', va='center',\n",
    "                   size=10, xytext=(0, 8),\n",
    "                   textcoords='offset points')\n",
    "\n",
    "plt.title(\"Number of restaurants (by city)\")\n",
    "plt.show()"
   ]
  },
  {
   "cell_type": "code",
   "execution_count": 226,
   "metadata": {},
   "outputs": [
    {
     "data": {
      "text/plain": [
       "city\n",
       "Gurgaon         3.828525\n",
       "Secunderabad    3.822222\n",
       "Hyderabad       3.755839\n",
       "Kolkata         3.751947\n",
       "New Delhi       3.727347\n",
       "Mumbai          3.709298\n",
       "Bangalore       3.698175\n",
       "Noida           3.620307\n",
       "Chennai         3.597701\n",
       "Pune            3.509224\n",
       "Name: aggregate_rating, dtype: float64"
      ]
     },
     "execution_count": 226,
     "metadata": {},
     "output_type": "execute_result"
    }
   ],
   "source": [
    "# Average rating by city\n",
    "\n",
    "rate_by_city = df1.groupby('city')['aggregate_rating'].mean().sort_values(ascending = False)[:10]\n",
    "rate_by_city"
   ]
  },
  {
   "cell_type": "code",
   "execution_count": 227,
   "metadata": {
    "id": "UVt-x0JRRksk",
    "outputId": "2b730239-6825-4e02-dee7-ad753ba4dbbf"
   },
   "outputs": [
    {
     "data": {
      "text/plain": [
       "city\n",
       "Mumbai         882.273492\n",
       "New Delhi      764.258216\n",
       "Gurgaon        678.491803\n",
       "Kolkata        667.558413\n",
       "Navi Mumbai    547.323671\n",
       "Thane          514.963855\n",
       "Noida          492.291188\n",
       "Bangalore      462.287939\n",
       "Hyderabad      377.274939\n",
       "Pune           333.320130\n",
       "Name: photo_count, dtype: float64"
      ]
     },
     "execution_count": 227,
     "metadata": {},
     "output_type": "execute_result"
    }
   ],
   "source": [
    "# average photo uploads count per city\n",
    "df1.groupby(\"city\")[\"photo_count\"].mean().sort_values(ascending=False)[:10]"
   ]
  },
  {
   "cell_type": "code",
   "execution_count": 228,
   "metadata": {},
   "outputs": [
    {
     "data": {
      "text/plain": [
       "city\n",
       "Hyderabad       955.549878\n",
       "Secunderabad    955.433333\n",
       "Mumbai          797.158259\n",
       "Bangalore       724.940365\n",
       "New Delhi       711.116197\n",
       "Kolkata         615.706833\n",
       "Gurgaon         613.180328\n",
       "Noida           515.570881\n",
       "Pune            475.715681\n",
       "Navi Mumbai     443.342995\n",
       "Name: votes, dtype: float64"
      ]
     },
     "execution_count": 228,
     "metadata": {},
     "output_type": "execute_result"
    }
   ],
   "source": [
    "# average votes per city\n",
    "df1.groupby(\"city\")[\"votes\"].mean().sort_values(ascending=False)[:10]"
   ]
  },
  {
   "cell_type": "markdown",
   "metadata": {},
   "source": [
    "Mumbai and New Delhi dominates for most photo uploads per outlet. \n",
    "\n",
    "Gurgaon tops the list of average highest rated restaurants whereas Hyderabad and Secunderabad has more number of critics."
   ]
  },
  {
   "cell_type": "markdown",
   "metadata": {},
   "source": [
    "**7. Ratings and Cost**"
   ]
  },
  {
   "cell_type": "code",
   "execution_count": 229,
   "metadata": {},
   "outputs": [
    {
     "data": {
      "image/png": "[encoded data removed]",
      "text/plain": [
       "<Figure size 800x500 with 1 Axes>"
      ]
     },
     "metadata": {},
     "output_type": "display_data"
    }
   ],
   "source": [
    "# Distribution plots\n",
    "\n",
    "plt.figure(figsize = (8,5))\n",
    "sns.kdeplot(df1['average_cost_for_two'], shade = True)\n",
    "plt.title('Distribution of Avg cost for two')\n",
    "plt.show()"
   ]
  },
  {
   "cell_type": "markdown",
   "metadata": {},
   "source": [
    "We can clearly see that this distribution is extremely skewed. There are a few restaurants that charge on an average more than Rs.10000+ for two. We can take a closer look at this graph by lowering the range."
   ]
  },
  {
   "cell_type": "code",
   "execution_count": 230,
   "metadata": {
    "scrolled": false
   },
   "outputs": [
    {
     "data": {
      "image/png": "[encoded data removed]",
      "text/plain": [
       "<Figure size 800x500 with 1 Axes>"
      ]
     },
     "metadata": {},
     "output_type": "display_data"
    }
   ],
   "source": [
    "plt.figure(figsize = (8,5))\n",
    "plt.xlim([0,8000])\n",
    "plt.xticks(range(0,8000,500))\n",
    "sns.kdeplot(df1['average_cost_for_two'], shade = True)\n",
    "plt.title('Distribution of Avg cost for two')\n",
    "plt.show()"
   ]
  },
  {
   "cell_type": "markdown",
   "metadata": {},
   "source": [
    "Most of the restaurants are budget friendly with an average cost of two between Rs.250 and Rs.900."
   ]
  },
  {
   "cell_type": "code",
   "execution_count": 231,
   "metadata": {},
   "outputs": [
    {
     "data": {
      "image/png": "[encoded data removed]",
      "text/plain": [
       "<Figure size 800x500 with 1 Axes>"
      ]
     },
     "metadata": {},
     "output_type": "display_data"
    }
   ],
   "source": [
    "# Distribution plots\n",
    "\n",
    "plt.figure(figsize = (8,5))\n",
    "sns.kdeplot(df1['aggregate_rating'], shade = True)\n",
    "plt.title('Distribution of ratings')\n",
    "plt.show()"
   ]
  },
  {
   "cell_type": "markdown",
   "metadata": {},
   "source": [
    "### Conclusions\n",
    "\n",
    "Following are the actionable insights for diners by analyzing various factors like average cost, ratings, establishments, etc from the given dataset :\n",
    "\n",
    "1. Approx. 35% of restaurants in India are part of some franchise\n",
    "\n",
    "2. Domino's Pizza, Cafe Coffee Day, KFC are the biggest fast food chains in the country with most number of outlets\n",
    "\n",
    "3. Quick bites and casual dining type of establishment have most number of outlets\n",
    "\n",
    "4. Banglore has most number of restaurants\n",
    "\n",
    "5. Civil Lines is the locality having maximum aggregate rating\n",
    "\n",
    "6. Barbecues and Grill food chains have highest average ratings than other type of restaurants\n",
    "\n",
    "7. Mumbai and New Delhi dominates for most photo uploads per outlet. \n",
    "   Gurgaon tops the list of highest rated restaurants whereas Hyderabad and Secunderabad has more number of critics.\n",
    "   \n",
    "8. As the average cost of two increases, the chance of a restaurant having higher rating increases\n",
    "\n",
    "9. Most restaurants got an aggregate rating between 3 and 4\n",
    "\n",
    "10. Microbrewery, Pub and Cocktail Bar establishment types are well rated by customers. \n",
    "\n",
    "11. Establishments with alcohol availability have highest average ratings, votes and photo uploads\n",
    "\n",
    "12. After North Indian, Chinese is the most prefered cuisine in India\n",
    "\n",
    "13. International cuisines are better rated than local cuisines\n",
    "\n",
    "14. There are less number of restaurants at higher price ranges\n",
    "\n",
    "15. Majority of restaurants are budget friendly with average cost of two between Rs. 250  to  Rs. 900"
   ]
  }
 ],
 "metadata": {
  "colab": {
   "collapsed_sections": [
    "0AQxhqayRksF",
    "TBbvg12IRksI",
    "GxRyhOiCRksl",
    "8TRu4KG2Rkss",
    "84UCg7jHRksu",
    "rv_JBRXxeboi",
    "6FT7miDFRksx",
    "aI1_PyQyRksz",
    "z4E_YK4FRks0",
    "E63nnVQlRks0",
    "KSO8FIeGRks1",
    "ukrhY1lIRks2",
    "zrowcAIvRks3",
    "cvoUd8WyRks5",
    "hSfDf7d2Rks7"
   ],
   "name": "EDA - Case Study - Zomato Dataset - [v2.0 - 180820].ipynb",
   "provenance": []
  },
  "kernelspec": {
   "display_name": "Python 3 (ipykernel)",
   "language": "python",
   "name": "python3"
  },
  "language_info": {
   "codemirror_mode": {
    "name": "ipython",
    "version": 3
   },
   "file_extension": ".py",
   "mimetype": "text/x-python",
   "name": "python",
   "nbconvert_exporter": "python",
   "pygments_lexer": "ipython3",
   "version": "3.11.5"
  }
 },
 "nbformat": 4,
 "nbformat_minor": 1
}
